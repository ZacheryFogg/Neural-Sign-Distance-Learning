{
 "cells": [
  {
   "cell_type": "code",
   "execution_count": 23,
   "metadata": {},
   "outputs": [
    {
     "name": "stdout",
     "output_type": "stream",
     "text": [
      "Using: cuda\n"
     ]
    }
   ],
   "source": [
    "import numpy as np\n",
    "import time\n",
    "import matplotlib.pyplot as plt\n",
    "%matplotlib inline\n",
    "import torch\n",
    "import torch.optim as optim\n",
    "import torch.nn as nn\n",
    "import torch.nn.functional as F\n",
    "import open3d as o3d\n",
    "import os\n",
    "from torch.utils.data import Dataset, DataLoader, Subset\n",
    "from dataclasses import dataclass\n",
    "import sys\n",
    "from pathlib import Path\n",
    "from pytorch3d.loss import chamfer_distance\n",
    "from tqdm import tqdm\n",
    "\n",
    "sys.path.append(str(Path.cwd().parent))\n",
    "\n",
    "from Helpers.data import PointCloudDataset\n",
    "import Helpers.PointCloudOpen3d as pc\n",
    "\n",
    "if torch.cuda.is_available():\n",
    "    device = \"cuda\"\n",
    "\n",
    "elif hasattr(torch.backends, \"mps\") and torch.backends.mps.is_available():\n",
    "    device = \"mps\"\n",
    "else:\n",
    "    device = \"cpu\"\n",
    "\n",
    "print(f'Using: {device}')"
   ]
  },
  {
   "cell_type": "code",
   "execution_count": 318,
   "metadata": {},
   "outputs": [
    {
     "name": "stdout",
     "output_type": "stream",
     "text": [
      "bathtub : 105\n",
      "bench : 172\n",
      "bowl : 63\n",
      "cone : 166\n",
      "cup : 78\n",
      "curtain : 137\n",
      "door : 108\n",
      "flower : 148\n",
      "glass : 170\n",
      "guitar : 154\n",
      "keyboard : 144\n",
      "lamp : 123\n",
      "laptop : 148\n",
      "person : 87\n",
      "radio : 103\n",
      "range : 114\n",
      "sink : 127\n",
      "stairs : 123\n",
      "stool : 89\n",
      "tent : 162\n",
      "wardrobe : 86\n",
      "xbox : 102\n",
      "40\n"
     ]
    }
   ],
   "source": [
    "names = {}\n",
    "for root, _, files in os.walk(\"../Data/ModelNet40\"):\n",
    "    for file in files:\n",
    "        if file.endswith('.off'):\n",
    "            full_path = os.path.join(root, file)\n",
    "            if f'train' in full_path:\n",
    "                name = file.split('_')[0]\n",
    "                if name in names:\n",
    "                    names[name] = names[name] + 1\n",
    "                else:\n",
    "                    names[name] = 0\n",
    "\n",
    "big_object_classes = []\n",
    "for name in names.keys():\n",
    "    if names[name] < 190: \n",
    "        print(f'{name} : {names[name]}')\n",
    "        big_object_classes.append(name)\n",
    "print(len(names))"
   ]
  },
  {
   "cell_type": "code",
   "execution_count": null,
   "metadata": {},
   "outputs": [
    {
     "name": "stderr",
     "output_type": "stream",
     "text": [
      "c:\\Users\\zfogg\\OneDrive\\git\\Neural-Sign-Distance-Learning\\Helpers\\data.py:69: RuntimeWarning: invalid value encountered in divide\n",
      "  scaled_points = ((points - min_coords) / range_coords) #scales points on range [0, 1]\n",
      "c:\\Users\\zfogg\\OneDrive\\git\\Neural-Sign-Distance-Learning\\Helpers\\data.py:70: RuntimeWarning: invalid value encountered in cast\n",
      "  scaled_points = (scaled_points * (2**num_bits - 1)).astype(int) # scales points to [0, 2^num_bits]\n"
     ]
    },
    {
     "name": "stdout",
     "output_type": "stream",
     "text": [
      "2468\n",
      "9843\n"
     ]
    }
   ],
   "source": [
    "point_size = 3072\n",
    "train_dataset = PointCloudDataset(\"../Data/ModelNet40\", point_size, 'train', object_classes = None )\n",
    "test_dataset = PointCloudDataset(\"../Data/ModelNet40\", point_size, 'test', object_classes = None)\n"
   ]
  },
  {
   "cell_type": "code",
   "execution_count": 18,
   "metadata": {},
   "outputs": [],
   "source": [
    "test_size = len(test_dataset)\n",
    "split_idx = test_size // 2\n",
    "indices = list(range(test_size))\n",
    "val_dataset = Subset(test_dataset, indices[:split_idx])\n",
    "test_dataset = Subset(test_dataset, indices[split_idx:])"
   ]
  },
  {
   "cell_type": "code",
   "execution_count": null,
   "metadata": {},
   "outputs": [],
   "source": [
    "train_loader = DataLoader(train_dataset, batch_size = 64, shuffle = True)\n",
    "val_loader = DataLoader(val_dataset, batch_size = 128, shuffle = True)\n",
    "test_loader = DataLoader(test_dataset, batch_size = 128, shuffle = True)"
   ]
  },
  {
   "cell_type": "code",
   "execution_count": 48,
   "metadata": {},
   "outputs": [],
   "source": [
    "\n",
    "class ConvDecoder(nn.Module):\n",
    "    \n",
    "    def __init__(self, point_size, latent_dim):\n",
    "        super().__init__()\n",
    "        \n",
    "        self.point_size = point_size\n",
    "\n",
    "        self.l1 = nn.Linear(latent_dim, 1024)\n",
    "        self.l2 = nn.Linear(1024, 2048)\n",
    "        self.l3 = nn.Linear(2048, 3072)\n",
    "        self.l4 = nn.Linear(3072, point_size * 3)\n",
    "\n",
    "    def forward(self, x):\n",
    "        x = F.gelu(self.l1(x))\n",
    "        x = F.gelu(self.l2(x))\n",
    "        x = F.gelu(self.l3(x))\n",
    "        x = self.l4(x)\n",
    "        x = x.view(-1, self.point_size, 3)\n",
    "        return x    \n",
    "    \n",
    "class ConvEncoder_2800T(nn.Module):\n",
    "    \n",
    "    def __init__(self, point_size, latent_size):\n",
    "        super().__init__()\n",
    "\n",
    "        self.point_size = point_size \n",
    "\n",
    "        # Points talk to each other wo/ downsampling \n",
    "        self.conv1 = nn.Conv1d(3, 32, kernel_size = 9, stride= 1, padding= 4)\n",
    "        self.conv2 = nn.Conv1d(32, 32, kernel_size = 9, stride = 1, padding = 4)\n",
    "\n",
    "        # Downsampling \n",
    "        self.conv3 = nn.Conv1d(32, 32, kernel_size = 8, stride = 2, padding = 3)\n",
    "        self.conv4 = nn.Conv1d(32, 32, kernel_size = 8, stride = 2, padding = 3)\n",
    "        self.conv5 = nn.Conv1d(32, 32, kernel_size = 8, stride = 2, padding = 3)\n",
    "        self.conv6 = nn.Conv1d(32, 32, kernel_size = 8, stride = 2, padding = 3)\n",
    "        self.conv7 = nn.Conv1d(32, 32, kernel_size = 8, stride = 2, padding = 3)\n",
    "\n",
    "        # Linear \n",
    "        self.lin1 = nn.Linear(point_size , latent_size)\n",
    "\n",
    "    def forward(self, x):\n",
    "        \n",
    "        x = F.gelu(self.conv1(x))\n",
    "        x = F.gelu(self.conv2(x))\n",
    "        x = F.gelu(self.conv3(x))\n",
    "        x = F.gelu(self.conv4(x))\n",
    "        x = F.gelu(self.conv5(x))\n",
    "        x = F.gelu(self.conv6(x))\n",
    "        x = F.gelu(self.conv7(x))\n",
    "\n",
    "        x = x.view(-1, self.point_size)\n",
    "\n",
    "        x = self.lin1(x)\n",
    "\n",
    "        return x\n",
    "\n",
    "\n",
    "class ConvAE_2800T(nn.Module):\n",
    "    \n",
    "    def __init__(self, point_size, latent_size):\n",
    "        super().__init__()\n",
    "\n",
    "        self.encoder = ConvEncoder_2800T(point_size, latent_size)\n",
    "        self.decoder = ConvDecoder(point_size, latent_size)\n",
    "\n",
    "    def forward(self, x):\n",
    "        latent_rep = self.encoder(x)\n",
    "        reconstructed_cloud = self.decoder(latent_rep)\n",
    "        return reconstructed_cloud"
   ]
  },
  {
   "cell_type": "code",
   "execution_count": 34,
   "metadata": {},
   "outputs": [
    {
     "name": "stdout",
     "output_type": "stream",
     "text": [
      "3193392\n"
     ]
    }
   ],
   "source": [
    "\n",
    "model = ConvAE_2800T(3072,512)\n",
    "total = 0\n",
    "for name,param in model.named_parameters():\n",
    "    if \"encoder\" in name: \n",
    "        total += param.numel()\n",
    "\n",
    "print(total)"
   ]
  },
  {
   "cell_type": "code",
   "execution_count": 49,
   "metadata": {},
   "outputs": [
    {
     "name": "stdout",
     "output_type": "stream",
     "text": [
      "torch.Size([128, 3072, 3])\n",
      "torch.Size([128, 3072, 3])\n",
      "torch.Size([128, 3072, 3])\n",
      "torch.Size([128, 3072, 3])\n",
      "torch.Size([128, 3072, 3])\n",
      "torch.Size([128, 3072, 3])\n",
      "torch.Size([128, 3072, 3])\n",
      "torch.Size([128, 3072, 3])\n",
      "torch.Size([128, 3072, 3])\n",
      "torch.Size([128, 3072, 3])\n",
      "torch.Size([128, 3072, 3])\n",
      "torch.Size([128, 3072, 3])\n",
      "torch.Size([128, 3072, 3])\n",
      "torch.Size([128, 3072, 3])\n",
      "torch.Size([128, 3072, 3])\n",
      "torch.Size([128, 3072, 3])\n",
      "torch.Size([128, 3072, 3])\n",
      "torch.Size([128, 3072, 3])\n",
      "torch.Size([128, 3072, 3])\n",
      "torch.Size([128, 3072, 3])\n",
      "torch.Size([128, 3072, 3])\n",
      "torch.Size([128, 3072, 3])\n",
      "torch.Size([128, 3072, 3])\n",
      "torch.Size([128, 3072, 3])\n",
      "torch.Size([128, 3072, 3])\n",
      "torch.Size([128, 3072, 3])\n",
      "torch.Size([128, 3072, 3])\n",
      "torch.Size([128, 3072, 3])\n",
      "torch.Size([128, 3072, 3])\n",
      "torch.Size([128, 3072, 3])\n",
      "torch.Size([128, 3072, 3])\n",
      "torch.Size([128, 3072, 3])\n",
      "torch.Size([128, 3072, 3])\n",
      "torch.Size([128, 3072, 3])\n",
      "torch.Size([128, 3072, 3])\n",
      "torch.Size([128, 3072, 3])\n",
      "torch.Size([128, 3072, 3])\n",
      "torch.Size([128, 3072, 3])\n",
      "torch.Size([128, 3072, 3])\n",
      "torch.Size([128, 3072, 3])\n",
      "torch.Size([128, 3072, 3])\n",
      "torch.Size([128, 3072, 3])\n",
      "torch.Size([128, 3072, 3])\n",
      "torch.Size([128, 3072, 3])\n",
      "torch.Size([128, 3072, 3])\n",
      "torch.Size([128, 3072, 3])\n",
      "torch.Size([128, 3072, 3])\n",
      "torch.Size([128, 3072, 3])\n",
      "torch.Size([128, 3072, 3])\n",
      "torch.Size([128, 3072, 3])\n",
      "torch.Size([128, 3072, 3])\n",
      "torch.Size([128, 3072, 3])\n",
      "torch.Size([128, 3072, 3])\n",
      "torch.Size([128, 3072, 3])\n",
      "torch.Size([128, 3072, 3])\n",
      "torch.Size([128, 3072, 3])\n",
      "torch.Size([128, 3072, 3])\n",
      "torch.Size([128, 3072, 3])\n",
      "torch.Size([128, 3072, 3])\n",
      "torch.Size([128, 3072, 3])\n"
     ]
    },
    {
     "ename": "KeyboardInterrupt",
     "evalue": "",
     "output_type": "error",
     "traceback": [
      "\u001b[1;31m---------------------------------------------------------------------------\u001b[0m",
      "\u001b[1;31mKeyboardInterrupt\u001b[0m                         Traceback (most recent call last)",
      "Cell \u001b[1;32mIn[49], line 28\u001b[0m\n\u001b[0;32m     24\u001b[0m     loss\u001b[38;5;241m.\u001b[39mbackward()\n\u001b[0;32m     26\u001b[0m     optimizer\u001b[38;5;241m.\u001b[39mstep()\n\u001b[1;32m---> 28\u001b[0m     train_loss \u001b[38;5;241m+\u001b[39m\u001b[38;5;241m=\u001b[39m \u001b[43mloss\u001b[49m\u001b[38;5;241;43m.\u001b[39;49m\u001b[43mitem\u001b[49m\u001b[43m(\u001b[49m\u001b[43m)\u001b[49m\n\u001b[0;32m     30\u001b[0m train_loss \u001b[38;5;241m/\u001b[39m\u001b[38;5;241m=\u001b[39m \u001b[38;5;28mlen\u001b[39m(train_loader)\n\u001b[0;32m     31\u001b[0m \u001b[38;5;66;03m# Calculate validation loss\u001b[39;00m\n",
      "\u001b[1;31mKeyboardInterrupt\u001b[0m: "
     ]
    }
   ],
   "source": [
    "\n",
    "\n",
    "model = ConvAE_2800T(3072, 512).to(device)\n",
    "optimizer = optim.AdamW(model.parameters(), lr=0.0001)\n",
    "\n",
    "min_val_loss = np.inf\n",
    "\n",
    "epochs = 1\n",
    "\n",
    "for epoch in range(epochs):\n",
    "\n",
    "    # Train one epoch\n",
    "    train_loss = 0 \n",
    "\n",
    "    for data in train_loader:\n",
    "        \n",
    "        x = data['points'].to(device)\n",
    "\n",
    "        reconstructed_x = model(x.permute(0,2,1)) # Model expects point clouds to be (3, num_points)\n",
    "        optimizer.zero_grad()\n",
    "\n",
    "        print(reconstructed_x.shape)\n",
    "        print(x.shape)\n",
    "        loss, _ = chamfer_distance(x, reconstructed_x)\n",
    "\n",
    "        loss.backward()\n",
    "\n",
    "        optimizer.step()\n",
    "\n",
    "        train_loss += loss.item()\n",
    "\n",
    "    train_loss /= len(train_loader)\n",
    "    # Calculate validation loss\n",
    "\n",
    "    val_loss = 0 \n",
    "\n",
    "    for data in val_loader:\n",
    "\n",
    "        x = data['points'].to(device)\n",
    "\n",
    "        with torch.no_grad():\n",
    "            reconstructed_x = model(x.permute(0,2,1))\n",
    "            loss, _ = chamfer_distance(x, reconstructed_x)\n",
    "            val_loss+= loss.item()\n",
    "\n",
    "    val_loss /= len(val_loader)\n",
    "\n",
    "    print(f'\\nEpoch {epoch+1} \\t Train Loss: {train_loss:.5f} \\t Val Loss: {val_loss:.5f}')\n",
    "\n",
    "    # Save best model\n",
    "    if val_loss < min_val_loss:\n",
    "        print(f'Val Loss Decreased({min_val_loss:.6f} ---> {val_loss:.6f}) \\t Saving The Model')\n",
    "        min_val_loss = val_loss\n",
    "\n",
    "        torch.save(model.state_dict(), './trained_models/ConvEnc_LinDec/ConvAutoEncoder_ModelNet40_test')\n",
    "    "
   ]
  },
  {
   "cell_type": "code",
   "execution_count": null,
   "metadata": {},
   "outputs": [],
   "source": [
    "best_model = ConvAE_2700T(2048, 512)\n",
    "best_model.load_state_dict(torch.load('./trained_models/ConvEnc_LinDec/ConvAutoEncoder_ModelNet40_2700T', weights_only=True))\n",
    "best_model.to(device)\n",
    "best_model.eval()\n",
    "pc.visualize_random_reconstruction(best_model, val_loader, device)"
   ]
  },
  {
   "cell_type": "code",
   "execution_count": 207,
   "metadata": {},
   "outputs": [],
   "source": [
    "pc.visualize_random_reconstruction(best_model, val_loader, device)"
   ]
  },
  {
   "cell_type": "code",
   "execution_count": 354,
   "metadata": {},
   "outputs": [],
   "source": [
    "pc.visualize_random_reconstruction(model, val_loader, device)"
   ]
  },
  {
   "cell_type": "code",
   "execution_count": 25,
   "metadata": {},
   "outputs": [
    {
     "name": "stdout",
     "output_type": "stream",
     "text": [
      "Training 5800T model\n"
     ]
    },
    {
     "name": "stderr",
     "output_type": "stream",
     "text": [
      "100%|██████████| 5/5 [00:45<00:00,  9.09s/it]\n"
     ]
    },
    {
     "name": "stdout",
     "output_type": "stream",
     "text": [
      "Training 5400T model\n"
     ]
    },
    {
     "name": "stderr",
     "output_type": "stream",
     "text": [
      "100%|██████████| 5/5 [00:15<00:00,  3.04s/it]\n"
     ]
    },
    {
     "name": "stdout",
     "output_type": "stream",
     "text": [
      "Training 4700T model\n"
     ]
    },
    {
     "name": "stderr",
     "output_type": "stream",
     "text": [
      "100%|██████████| 5/5 [00:13<00:00,  2.78s/it]\n"
     ]
    },
    {
     "name": "stdout",
     "output_type": "stream",
     "text": [
      "Training 3200T model\n"
     ]
    },
    {
     "name": "stderr",
     "output_type": "stream",
     "text": [
      "100%|██████████| 5/5 [00:13<00:00,  2.64s/it]\n"
     ]
    },
    {
     "name": "stdout",
     "output_type": "stream",
     "text": [
      "Training 2800T model\n"
     ]
    },
    {
     "name": "stderr",
     "output_type": "stream",
     "text": [
      "  0%|          | 0/5 [00:00<?, ?it/s]\n"
     ]
    },
    {
     "ename": "ValueError",
     "evalue": "y does not have the correct shape.",
     "output_type": "error",
     "traceback": [
      "\u001b[1;31m---------------------------------------------------------------------------\u001b[0m",
      "\u001b[1;31mValueError\u001b[0m                                Traceback (most recent call last)",
      "Cell \u001b[1;32mIn[25], line 84\u001b[0m\n\u001b[0;32m     80\u001b[0m \u001b[38;5;28mprint\u001b[39m(\u001b[38;5;124mf\u001b[39m\u001b[38;5;124m'\u001b[39m\u001b[38;5;124mTraining \u001b[39m\u001b[38;5;132;01m{\u001b[39;00mkey\u001b[38;5;132;01m}\u001b[39;00m\u001b[38;5;124m model\u001b[39m\u001b[38;5;124m'\u001b[39m)\n\u001b[0;32m     82\u001b[0m model \u001b[38;5;241m=\u001b[39m models[key](point_size, latent_size)\u001b[38;5;241m.\u001b[39mto(device)\n\u001b[1;32m---> 84\u001b[0m train_losses, val_losses \u001b[38;5;241m=\u001b[39m \u001b[43mtrain_model\u001b[49m\u001b[43m(\u001b[49m\u001b[43mkey\u001b[49m\u001b[43m,\u001b[49m\u001b[43m \u001b[49m\u001b[43mmodel\u001b[49m\u001b[43m,\u001b[49m\u001b[43m \u001b[49m\u001b[43mnum_epochs\u001b[49m\u001b[43m,\u001b[49m\u001b[43m \u001b[49m\u001b[43mtrain_loader\u001b[49m\u001b[43m,\u001b[49m\u001b[43m \u001b[49m\u001b[43mval_loader\u001b[49m\u001b[43m)\u001b[49m\n\u001b[0;32m     86\u001b[0m training_results[key] \u001b[38;5;241m=\u001b[39m {\u001b[38;5;124m'\u001b[39m\u001b[38;5;124mtrain_losses\u001b[39m\u001b[38;5;124m'\u001b[39m : train_losses, \u001b[38;5;124m'\u001b[39m\u001b[38;5;124mval_losses\u001b[39m\u001b[38;5;124m'\u001b[39m : val_losses}\n",
      "Cell \u001b[1;32mIn[25], line 21\u001b[0m, in \u001b[0;36mtrain_model\u001b[1;34m(key, model, num_epochs, train_loader, val_loader)\u001b[0m\n\u001b[0;32m     19\u001b[0m reconstructed_x \u001b[38;5;241m=\u001b[39m model(x\u001b[38;5;241m.\u001b[39mpermute(\u001b[38;5;241m0\u001b[39m,\u001b[38;5;241m2\u001b[39m,\u001b[38;5;241m1\u001b[39m)) \u001b[38;5;66;03m# Model expects point clouds to be (3, num_points)\u001b[39;00m\n\u001b[0;32m     20\u001b[0m optimizer\u001b[38;5;241m.\u001b[39mzero_grad()\n\u001b[1;32m---> 21\u001b[0m loss, _ \u001b[38;5;241m=\u001b[39m \u001b[43mchamfer_distance\u001b[49m\u001b[43m(\u001b[49m\u001b[43mx\u001b[49m\u001b[43m,\u001b[49m\u001b[43m \u001b[49m\u001b[43mreconstructed_x\u001b[49m\u001b[43m)\u001b[49m\n\u001b[0;32m     23\u001b[0m loss\u001b[38;5;241m.\u001b[39mbackward()\n\u001b[0;32m     25\u001b[0m optimizer\u001b[38;5;241m.\u001b[39mstep()\n",
      "File \u001b[1;32mc:\\Users\\zfogg\\anaconda3\\envs\\test-open3d\\lib\\site-packages\\pytorch3d\\loss\\chamfer.py:249\u001b[0m, in \u001b[0;36mchamfer_distance\u001b[1;34m(x, y, x_lengths, y_lengths, x_normals, y_normals, weights, batch_reduction, point_reduction, norm, single_directional, abs_cosine)\u001b[0m\n\u001b[0;32m    246\u001b[0m x, x_lengths, x_normals \u001b[38;5;241m=\u001b[39m _handle_pointcloud_input(x, x_lengths, x_normals)\n\u001b[0;32m    247\u001b[0m y, y_lengths, y_normals \u001b[38;5;241m=\u001b[39m _handle_pointcloud_input(y, y_lengths, y_normals)\n\u001b[1;32m--> 249\u001b[0m cham_x, cham_norm_x \u001b[38;5;241m=\u001b[39m \u001b[43m_chamfer_distance_single_direction\u001b[49m\u001b[43m(\u001b[49m\n\u001b[0;32m    250\u001b[0m \u001b[43m    \u001b[49m\u001b[43mx\u001b[49m\u001b[43m,\u001b[49m\n\u001b[0;32m    251\u001b[0m \u001b[43m    \u001b[49m\u001b[43my\u001b[49m\u001b[43m,\u001b[49m\n\u001b[0;32m    252\u001b[0m \u001b[43m    \u001b[49m\u001b[43mx_lengths\u001b[49m\u001b[43m,\u001b[49m\n\u001b[0;32m    253\u001b[0m \u001b[43m    \u001b[49m\u001b[43my_lengths\u001b[49m\u001b[43m,\u001b[49m\n\u001b[0;32m    254\u001b[0m \u001b[43m    \u001b[49m\u001b[43mx_normals\u001b[49m\u001b[43m,\u001b[49m\n\u001b[0;32m    255\u001b[0m \u001b[43m    \u001b[49m\u001b[43my_normals\u001b[49m\u001b[43m,\u001b[49m\n\u001b[0;32m    256\u001b[0m \u001b[43m    \u001b[49m\u001b[43mweights\u001b[49m\u001b[43m,\u001b[49m\n\u001b[0;32m    257\u001b[0m \u001b[43m    \u001b[49m\u001b[43mpoint_reduction\u001b[49m\u001b[43m,\u001b[49m\n\u001b[0;32m    258\u001b[0m \u001b[43m    \u001b[49m\u001b[43mnorm\u001b[49m\u001b[43m,\u001b[49m\n\u001b[0;32m    259\u001b[0m \u001b[43m    \u001b[49m\u001b[43mabs_cosine\u001b[49m\u001b[43m,\u001b[49m\n\u001b[0;32m    260\u001b[0m \u001b[43m\u001b[49m\u001b[43m)\u001b[49m\n\u001b[0;32m    261\u001b[0m \u001b[38;5;28;01mif\u001b[39;00m single_directional:\n\u001b[0;32m    262\u001b[0m     loss \u001b[38;5;241m=\u001b[39m cham_x\n",
      "File \u001b[1;32mc:\\Users\\zfogg\\anaconda3\\envs\\test-open3d\\lib\\site-packages\\pytorch3d\\loss\\chamfer.py:99\u001b[0m, in \u001b[0;36m_chamfer_distance_single_direction\u001b[1;34m(x, y, x_lengths, y_lengths, x_normals, y_normals, weights, point_reduction, norm, abs_cosine)\u001b[0m\n\u001b[0;32m     95\u001b[0m x_mask \u001b[38;5;241m=\u001b[39m (\n\u001b[0;32m     96\u001b[0m     torch\u001b[38;5;241m.\u001b[39marange(P1, device\u001b[38;5;241m=\u001b[39mx\u001b[38;5;241m.\u001b[39mdevice)[\u001b[38;5;28;01mNone\u001b[39;00m] \u001b[38;5;241m>\u001b[39m\u001b[38;5;241m=\u001b[39m x_lengths[:, \u001b[38;5;28;01mNone\u001b[39;00m]\n\u001b[0;32m     97\u001b[0m )  \u001b[38;5;66;03m# shape [N, P1]\u001b[39;00m\n\u001b[0;32m     98\u001b[0m \u001b[38;5;28;01mif\u001b[39;00m y\u001b[38;5;241m.\u001b[39mshape[\u001b[38;5;241m0\u001b[39m] \u001b[38;5;241m!=\u001b[39m N \u001b[38;5;129;01mor\u001b[39;00m y\u001b[38;5;241m.\u001b[39mshape[\u001b[38;5;241m2\u001b[39m] \u001b[38;5;241m!=\u001b[39m D:\n\u001b[1;32m---> 99\u001b[0m     \u001b[38;5;28;01mraise\u001b[39;00m \u001b[38;5;167;01mValueError\u001b[39;00m(\u001b[38;5;124m\"\u001b[39m\u001b[38;5;124my does not have the correct shape.\u001b[39m\u001b[38;5;124m\"\u001b[39m)\n\u001b[0;32m    100\u001b[0m \u001b[38;5;28;01mif\u001b[39;00m weights \u001b[38;5;129;01mis\u001b[39;00m \u001b[38;5;129;01mnot\u001b[39;00m \u001b[38;5;28;01mNone\u001b[39;00m:\n\u001b[0;32m    101\u001b[0m     \u001b[38;5;28;01mif\u001b[39;00m weights\u001b[38;5;241m.\u001b[39msize(\u001b[38;5;241m0\u001b[39m) \u001b[38;5;241m!=\u001b[39m N:\n",
      "\u001b[1;31mValueError\u001b[0m: y does not have the correct shape."
     ]
    }
   ],
   "source": [
    "def train_model(key, model, num_epochs, train_loader, val_loader):\n",
    "\n",
    "    optimizer = optim.AdamW(model.parameters(), lr=0.0001)\n",
    "\n",
    "    min_val_loss = np.inf\n",
    "\n",
    "    train_losses = []\n",
    "    val_losses = []\n",
    "\n",
    "    for epoch in tqdm(range(num_epochs)):\n",
    "\n",
    "        # Train one epoch\n",
    "        train_loss = 0 \n",
    "\n",
    "        for data in train_loader:\n",
    "            \n",
    "            x = data['points'].to(device)\n",
    "\n",
    "            reconstructed_x = model(x.permute(0,2,1)) # Model expects point clouds to be (3, num_points)\n",
    "            optimizer.zero_grad()\n",
    "            loss, _ = chamfer_distance(x, reconstructed_x)\n",
    "\n",
    "            loss.backward()\n",
    "\n",
    "            optimizer.step()\n",
    "\n",
    "            train_loss += loss.item()\n",
    "\n",
    "        train_loss /= len(train_loader)\n",
    "\n",
    "        # Calculate validation loss\n",
    "\n",
    "        val_loss = 0 \n",
    "\n",
    "        for data in val_loader:\n",
    "\n",
    "            x = data['points'].to(device)\n",
    "\n",
    "            with torch.no_grad():\n",
    "                reconstructed_x = model(x.permute(0,2,1))\n",
    "                loss, _ = chamfer_distance(x, reconstructed_x)\n",
    "                val_loss+= loss.item()\n",
    "\n",
    "        val_loss /= len(val_loader)\n",
    "\n",
    "        # print(f'\\nEpoch {epoch+1} \\t Train Loss: {train_loss:.5f} \\t Val Loss: {val_loss:.5f}')\n",
    "\n",
    "        # Save best model\n",
    "        if val_loss < min_val_loss:\n",
    "            # print(f'Val Loss Decreased({min_val_loss:.6f} ---> {val_loss:.6f}) \\t Saving The Model')\n",
    "            min_val_loss = val_loss\n",
    "\n",
    "            torch.save(model.state_dict(), f'./trained_models/ConvEnc_LinDec/3072_512/ConvAE_{key}')\n",
    "\n",
    "        train_losses.append(train_loss)\n",
    "        val_losses.append(val_loss)\n",
    "\n",
    "    return train_losses, val_losses\n",
    "\n",
    "import autoencoders as ae\n",
    "\n",
    "### Experiment \n",
    "num_epochs = 5\n",
    "point_size = 3072 \n",
    "latent_size = 512\n",
    "\n",
    "models = {\n",
    "    '5800T' : ConvAE_5800T,\n",
    "    '5400T' : ae.ConvAE_5400T,\n",
    "    '4700T' : ae.ConvAE_4700T,\n",
    "    '3200T' : ae.ConvAE_3200T,\n",
    "    '2800T' : ae.ConvAE_2800T,\n",
    "    '570T' : ae.ConvAE_570T\n",
    "}\n",
    "training_results = {}\n",
    "\n",
    "\n",
    "for key in models.keys(): \n",
    "\n",
    "    print(f'Training {key} model')\n",
    "    \n",
    "    model = models[key](point_size, latent_size).to(device)\n",
    "\n",
    "    train_losses, val_losses = train_model(key, model, num_epochs, train_loader, val_loader)\n",
    "    \n",
    "    training_results[key] = {'train_losses' : train_losses, 'val_losses' : val_losses}\n",
    "    \n"
   ]
  },
  {
   "cell_type": "code",
   "execution_count": 51,
   "metadata": {},
   "outputs": [
    {
     "data": {
      "image/png": "[encoded data removed]",
      "text/plain": [
       "<Figure size 640x480 with 1 Axes>"
      ]
     },
     "metadata": {},
     "output_type": "display_data"
    },
    {
     "data": {
      "image/png": "[encoded data removed]",
      "text/plain": [
       "<Figure size 640x480 with 1 Axes>"
      ]
     },
     "metadata": {},
     "output_type": "display_data"
    }
   ],
   "source": [
    "epochs = list(range(num_epochs))\n",
    "\n",
    "for key in training_results.keys():\n",
    "    plt.plot(epochs, training_results[key]['train_losses'], label = key)\n",
    "\n",
    "plt.title('Training Loss')\n",
    "plt.legend()\n",
    "plt.show()\n",
    "\n",
    "\n",
    "for key in training_results.keys():\n",
    "    plt.plot(epochs, training_results[key]['val_losses'], label = key)\n",
    "\n",
    "plt.title('Validation Loss')\n",
    "plt.legend()\n",
    "plt.show()"
   ]
  }
 ],
 "metadata": {
  "kernelspec": {
   "display_name": "test-open3d",
   "language": "python",
   "name": "python3"
  },
  "language_info": {
   "codemirror_mode": {
    "name": "ipython",
    "version": 3
   },
   "file_extension": ".py",
   "mimetype": "text/x-python",
   "name": "python",
   "nbconvert_exporter": "python",
   "pygments_lexer": "ipython3",
   "version": "3.9.20"
  }
 },
 "nbformat": 4,
 "nbformat_minor": 2
}
