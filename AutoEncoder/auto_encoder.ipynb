{
 "cells": [
  {
   "cell_type": "code",
   "execution_count": 2,
   "metadata": {},
   "outputs": [
    {
     "name": "stdout",
     "output_type": "stream",
     "text": [
      "Using: mps\n"
     ]
    }
   ],
   "source": [
    "import numpy as np\n",
    "import torch.nn as nn\n",
    "import torch.nn.functional as F\n",
    "import open3d as o3d\n",
    "import os\n",
    "import torch\n",
    "from torch.utils.data import Dataset, DataLoader\n",
    "from dataclasses import dataclass\n",
    "import sys\n",
    "from pathlib import Path\n",
    "import time\n",
    "\n",
    "sys.path.append(str(Path.cwd().parent))\n",
    "\n",
    "from Helpers.data import PointCloudDataset\n",
    "import Helpers.PointCloudOpen3d as pc\n",
    "\n",
    "if torch.cuda.is_available():\n",
    "    device = \"cuda\"\n",
    "\n",
    "elif hasattr(torch.backends, \"mps\") and torch.backends.mps.is_available():\n",
    "    device = \"mps\"\n",
    "else:\n",
    "    device = \"cpu\"\n",
    "\n",
    "print(f'Using: {device}')"
   ]
  },
  {
   "cell_type": "code",
   "execution_count": 3,
   "metadata": {},
   "outputs": [],
   "source": [
    "train_dataset = PointCloudDataset(\"../ModelNet40\", 5000, 'train', ['person'])\n",
    "train_loader = DataLoader(train_dataset, batch_size = 4, shuffle = False)"
   ]
  },
  {
   "cell_type": "code",
   "execution_count": 4,
   "metadata": {},
   "outputs": [
    {
     "name": "stdout",
     "output_type": "stream",
     "text": [
      "88\n"
     ]
    }
   ],
   "source": [
    "print(len(train_dataset))"
   ]
  },
  {
   "cell_type": "code",
   "execution_count": 5,
   "metadata": {},
   "outputs": [],
   "source": [
    "class MLPEncoder(nn.Module):\n",
    "\n",
    "    def __init__(self, config):\n",
    "        super().__init__()\n",
    "\n",
    "        self.fc1 = nn.Linear(config.input_dim, config.hidden_dim1)\n",
    "        self.fc2 = nn.Linear(config.hidden_dim1, config.hidden_dim2)\n",
    "        self.fc3 = nn.Linear(config.hidden_dim2, config.latent_dim)\n",
    "\n",
    "    def forward(self, x):\n",
    "        x = F.gelu(self.fc1(x))\n",
    "        x = F.gelu(self.fc2(x))\n",
    "        x = self.fc3(x)\n",
    "\n",
    "        return x\n",
    "\n",
    "class MLPDecoder(nn.Module):\n",
    "\n",
    "    def __init__(self, config):\n",
    "        super().__init__()\n",
    "\n",
    "        self.fc1 = nn.Linear(config.latent_dim, config.hidden_dim2)\n",
    "        self.fc2 = nn.Linear(config.hidden_dim2, config.hidden_dim1)\n",
    "        self.fc3 = nn.Linear(config.hidden_dim1, config.input_dim)\n",
    "\n",
    "    def forward(self, x):\n",
    "        x = F.gelu(self.fc1(x))\n",
    "        x = F.gelu(self.fc2(x))\n",
    "        x = self.fc3(x)\n",
    "\n",
    "        return x\n",
    "\n",
    "\n",
    "class Autoencoder(nn.Module):\n",
    "\n",
    "    def __init__(self, config):\n",
    "        super().__init__()\n",
    "\n",
    "        self.encoder = MLPEncoder(config)\n",
    "        self.decoder = MLPDecoder(config)\n",
    "\n",
    "    def forward(self,x):\n",
    "        latent_rep = self.encoder(x)\n",
    "        out = self.decoder(latent_rep)\n",
    "        return out\n",
    "\n",
    "\n",
    "# class Autoencoder(nn.Module):\n",
    "\n",
    "#     def __init__(self, config):\n",
    "#         super().__init__()\n",
    "\n",
    "#         self.fc = nn.Linear(config.input_dim, config.input_dim)\n",
    "\n",
    "#     def forward(self,x):\n",
    "#         y = self.fc(x)\n",
    "#         return x + (.00001 * y)\n",
    "    \n",
    "\n",
    "class PointCloudAutoencoder(nn.Module):\n",
    "    def __init__(self, config):\n",
    "        super(PointCloudAutoencoder, self).__init__()\n",
    "        # Encoder\n",
    "        self.encoder = nn.Sequential(\n",
    "            nn.Linear(config.input_dim, config.hidden_dim),\n",
    "            nn.ReLU(),\n",
    "            nn.Linear(config.hidden_dim, config.latent_dim)\n",
    "        )\n",
    "        # Decoder\n",
    "        self.decoder = nn.Sequential(\n",
    "            nn.Linear(config.latent_dim, config.hidden_dim),\n",
    "            nn.ReLU(),\n",
    "            nn.Linear(config.hidden_dim, config.input_dim)\n",
    "        )\n",
    "\n",
    "    def forward(self, x):\n",
    "        latent = self.encoder(x)\n",
    "        reconstructed = self.decoder(latent)\n",
    "        return reconstructed\n"
   ]
  },
  {
   "cell_type": "code",
   "execution_count": 6,
   "metadata": {},
   "outputs": [],
   "source": [
    "import torch\n",
    "import torch.nn as nn\n",
    "import torch.nn.functional as F\n",
    "\n",
    "\n",
    "class PointCloudAE(nn.Module):\n",
    "    def __init__(self, point_size, latent_size):\n",
    "        super(PointCloudAE, self).__init__()\n",
    "        \n",
    "        self.latent_size = latent_size\n",
    "        self.point_size = point_size\n",
    "        \n",
    "        self.conv1 = torch.nn.Conv1d(3, 1024, 1)\n",
    "        self.conv2 = torch.nn.Conv1d(1024, 768, 1)\n",
    "        self.conv3 = torch.nn.Conv1d(768, self.latent_size, 1)\n",
    "        self.bn1 = nn.BatchNorm1d(1024)\n",
    "        self.bn2 = nn.BatchNorm1d(768)\n",
    "        self.bn3 = nn.BatchNorm1d(self.latent_size)\n",
    "        \n",
    "        self.dec1 = nn.Linear(self.latent_size,1024)\n",
    "        self.dec2 = nn.Linear(1024,2048)\n",
    "        self.dec3 = nn.Linear(2048,self.point_size*3)\n",
    "\n",
    "    def encoder(self, x): \n",
    "        x = F.relu(self.bn1(self.conv1(x)))\n",
    "        x = F.relu(self.bn2(self.conv2(x)))\n",
    "        x = self.bn3(self.conv3(x))\n",
    "        x = torch.max(x, 2, keepdim=True)[0]\n",
    "        x = x.view(-1, self.latent_size)\n",
    "        return x\n",
    "    \n",
    "    def decoder(self, x):\n",
    "        x = F.relu(self.dec1(x))\n",
    "        x = F.relu(self.dec2(x))\n",
    "        x = self.dec3(x)\n",
    "        return x.view(-1, self.point_size, 3)\n",
    "    \n",
    "    def forward(self, x):\n",
    "        x = self.encoder(x)\n",
    "        x = self.decoder(x)\n",
    "        return x\n",
    "    "
   ]
  },
  {
   "cell_type": "code",
   "execution_count": null,
   "metadata": {},
   "outputs": [],
   "source": [
    "x = next(iter(train_loader))['points'][0]\n",
    "cloud = pc.get_point_cloud(x)\n",
    "pc.visualize_point_cloud(cloud)"
   ]
  },
  {
   "cell_type": "code",
   "execution_count": 7,
   "metadata": {},
   "outputs": [],
   "source": [
    "model = PointCloudAE(5000,768).to(device)\n"
   ]
  },
  {
   "cell_type": "code",
   "execution_count": 13,
   "metadata": {},
   "outputs": [
    {
     "name": "stdout",
     "output_type": "stream",
     "text": [
      "Epoch 49  Epoch Loss: 179824.39273626154\n",
      "Epoch 99  Epoch Loss: 140382.34097151321\n",
      "Epoch 149 Epoch Loss: 114006.89859286221\n",
      "Epoch 199 Epoch Loss: 251136.1066194014\n",
      "Epoch 249 Epoch Loss: 249616.58377699417\n",
      "Epoch 299 Epoch Loss: 59660.905065363106\n",
      "Epoch 349 Epoch Loss: 289422.68826363306\n",
      "Epoch 399 Epoch Loss: 29257.697004491634\n",
      "Epoch 449 Epoch Loss: 453240.9243177934\n",
      "Epoch 499 Epoch Loss: 585186.1697689403\n",
      "Epoch 549 Epoch Loss: 92474.45200486617\n",
      "Epoch 599 Epoch Loss: 243859.16436854276\n",
      "Epoch 649 Epoch Loss: 879324.6589587819\n",
      "Epoch 699 Epoch Loss: 78364.81754996559\n",
      "Epoch 749 Epoch Loss: 189705.5731232383\n",
      "Epoch 799 Epoch Loss: 289108.6335027868\n",
      "Epoch 849 Epoch Loss: 54135.53244313327\n",
      "Epoch 899 Epoch Loss: 591263.5530154489\n",
      "Epoch 949 Epoch Loss: 217342.05106995322\n",
      "Epoch 999 Epoch Loss: 48297.966102426704\n",
      "Epoch 1049 Epoch Loss: 189620.63842218573\n",
      "Epoch 1099 Epoch Loss: 1156464.5088398673\n",
      "Epoch 1149 Epoch Loss: 16823.673126220703\n",
      "Epoch 1199 Epoch Loss: 707890.912905433\n",
      "Epoch 1249 Epoch Loss: 71281.81664692271\n",
      "Epoch 1299 Epoch Loss: 98328.44943324002\n",
      "Epoch 1349 Epoch Loss: 1215869.8619235645\n",
      "Epoch 1399 Epoch Loss: 65451.252807097\n",
      "Epoch 1449 Epoch Loss: 216875.859702197\n",
      "Epoch 1499 Epoch Loss: 589594.9179258347\n",
      "Epoch 1549 Epoch Loss: 405314.26380278845\n",
      "Epoch 1599 Epoch Loss: 29620.968414480038\n",
      "Epoch 1649 Epoch Loss: 1176280.7546046863\n",
      "Epoch 1699 Epoch Loss: 98008.30024008318\n",
      "Epoch 1749 Epoch Loss: 711396.4451021715\n",
      "Epoch 1799 Epoch Loss: 140145.25818616693\n",
      "Epoch 1849 Epoch Loss: 37300.854699568314\n",
      "Epoch 1899 Epoch Loss: 450456.17585823755\n",
      "Epoch 1949 Epoch Loss: 35932.21209465374\n",
      "Epoch 1999 Epoch Loss: 940243.4091769132\n",
      "1542.213052034378\n"
     ]
    }
   ],
   "source": [
    "point_cloud_size = 5000 \n",
    "\n",
    "\n",
    "# @dataclass \n",
    "# class MLPAutoEncoderConfig:\n",
    "#     input_dim = point_cloud_size * 3\n",
    "#     hidden_dim1 = 3072\n",
    "#     hidden_dim2 = 1048\n",
    "#     latent_dim = 512\n",
    "\n",
    "# @dataclass \n",
    "# class MLPAutoEncoderConfig:\n",
    "#     input_dim = point_cloud_size * 3\n",
    "#     hidden_dim1 = point_cloud_size * 3\n",
    "#     hidden_dim2 = point_cloud_size * 3\n",
    "#     latent_dim = point_cloud_size * 3\n",
    "\n",
    "# @dataclass \n",
    "# class MLPAutoEncoderConfig:\n",
    "#     input_dim = point_cloud_size * 3\n",
    "#     hidden_dim = 2048\n",
    "#     latent_dim = 512\n",
    "\n",
    "\n",
    "# config = MLPAutoEncoderConfig()\n",
    "\n",
    "# model = Autoencoder(config).to(device)\n",
    "# model = PointCloudAutoencoder(config).to(device)\n",
    "# model = PointCloudAE(5000,256).to(device)\n",
    "\n",
    "optim = torch.optim.AdamW(model.parameters(), lr= 1e-4)\n",
    "\n",
    "epochs = 2000\n",
    "\n",
    "\n",
    "report_rate = 600\n",
    "\n",
    "s= time.time()\n",
    "\n",
    "for epoch in range(epochs):\n",
    "\n",
    "    running_loss = 0 \n",
    "\n",
    "    batch_count = 0 \n",
    "\n",
    "    for i, data in enumerate(train_loader):\n",
    "\n",
    "        x = data['points'].to(device).transpose(1,2)\n",
    "        # x = x.view(x.shape[0], -1).to(device)\n",
    "        \n",
    "        optim.zero_grad()\n",
    "\n",
    "        pred = model(x).transpose(1,2)\n",
    "\n",
    "        loss = F.mse_loss(pred, x)\n",
    "\n",
    "        loss.backward()\n",
    "\n",
    "        optim.step()\n",
    "\n",
    "        running_loss += loss.item()\n",
    "\n",
    "        batch_count +=1\n",
    "\n",
    "    if epoch % 50 == 49:\n",
    "        print(f'Epoch {epoch:<3} Epoch Loss: {running_loss / batch_count}')\n",
    "\n",
    "        # if i % report_rate == report_rate - 1:\n",
    "        #     print(f'Batch {i:<3} Running Loss: {running_loss / report_rate}')\n",
    "        #     running_loss = 0\n",
    "\n",
    "print(time.time() - s)\n",
    "    "
   ]
  },
  {
   "cell_type": "code",
   "execution_count": 18,
   "metadata": {},
   "outputs": [
    {
     "name": "stderr",
     "output_type": "stream",
     "text": [
      "/var/folders/hh/m6vvts714wdcv6sngjwj41zr0000gn/T/ipykernel_9440/3022310224.py:8: DeprecationWarning: __array__ implementation doesn't accept a copy keyword, so passing copy=False failed. __array__ must implement 'dtype' and 'copy' keyword arguments.\n",
      "  rec_x = np.array(model(x)[0].to('cpu'))\n"
     ]
    }
   ],
   "source": [
    "x = next(iter(train_loader))['points'][2]\n",
    "cloud = pc.get_point_cloud(x)\n",
    "pc.visualize_point_cloud(cloud)\n",
    "\n",
    "\n",
    "with torch.no_grad():\n",
    "    x = x.T.unsqueeze(0).to(device)\n",
    "    rec_x = np.array(model(x)[0].to('cpu'))\n",
    "    cloud = pc.get_point_cloud(rec_x)\n",
    "    pc.visualize_point_cloud(cloud)"
   ]
  },
  {
   "cell_type": "code",
   "execution_count": null,
   "metadata": {},
   "outputs": [
    {
     "data": {
      "text/plain": [
       "torch.Size([16, 15000])"
      ]
     },
     "execution_count": 38,
     "metadata": {},
     "output_type": "execute_result"
    }
   ],
   "source": [
    "x.view(x.shape[0], -1).shape"
   ]
  },
  {
   "cell_type": "code",
   "execution_count": null,
   "metadata": {},
   "outputs": [],
   "source": []
  }
 ],
 "metadata": {
  "kernelspec": {
   "display_name": "pytorch-gpu",
   "language": "python",
   "name": "python3"
  },
  "language_info": {
   "codemirror_mode": {
    "name": "ipython",
    "version": 3
   },
   "file_extension": ".py",
   "mimetype": "text/x-python",
   "name": "python",
   "nbconvert_exporter": "python",
   "pygments_lexer": "ipython3",
   "version": "3.13.0"
  }
 },
 "nbformat": 4,
 "nbformat_minor": 2
}
