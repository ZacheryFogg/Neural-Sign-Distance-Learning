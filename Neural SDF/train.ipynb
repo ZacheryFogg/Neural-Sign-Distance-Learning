{
 "cells": [
  {
   "cell_type": "code",
   "execution_count": 1,
   "metadata": {},
   "outputs": [
    {
     "name": "stdout",
     "output_type": "stream",
     "text": [
      "Jupyter environment detected. Enabling Open3D WebVisualizer.\n",
      "[Open3D INFO] WebRTC GUI backend enabled.\n",
      "[Open3D INFO] WebRTCWindowSystem: HTTP handshake server disabled.\n",
      "Failed to sample sdf on file:  ./Data/vdbs/airplane/train/airplane_0001.vdb\n",
      "Using: cuda\n"
     ]
    }
   ],
   "source": [
    "import numpy as np\n",
    "import matplotlib.pyplot as plt\n",
    "%matplotlib inline\n",
    "import torch\n",
    "import torch.optim as optim\n",
    "import torch.nn as nn\n",
    "import torch.nn.functional as F\n",
    "import open3d as o3d\n",
    "from torch.utils.data import Dataset, DataLoader, Subset\n",
    "from dataclasses import dataclass\n",
    "import sys\n",
    "from pathlib import Path\n",
    "from pytorch3d.loss import chamfer_distance\n",
    "from tqdm import tqdm\n",
    "\n",
    "sys.path.append(str(Path.cwd().parent))\n",
    "\n",
    "import AutoEncoder.autoencoders as ae\n",
    "from AutoEncoder.encoder import PointCloudAutoEncoder\n",
    "from Helpers.data import PointCloudDataset\n",
    "import Helpers.PointCloudOpen3d as pc\n",
    "from Helpers.nsdf_live_sampler import sample_sdf\n",
    "from SignDistanceModel.sdf_models import SDFRegressionModel\n",
    "\n",
    "if torch.cuda.is_available():\n",
    "    device = \"cuda\"\n",
    "\n",
    "elif hasattr(torch.backends, \"mps\") and torch.backends.mps.is_available():\n",
    "    device = \"mps\"\n",
    "else:\n",
    "    device = \"cpu\"\n",
    "\n",
    "print(f'Using: {device}')\n"
   ]
  },
  {
   "cell_type": "code",
   "execution_count": 2,
   "metadata": {},
   "outputs": [
    {
     "name": "stderr",
     "output_type": "stream",
     "text": [
      "/home/amuseth/dev/src/Neural-Sign-Distance-Learning/Helpers/data.py:69: RuntimeWarning: invalid value encountered in divide\n",
      "  scaled_points = ((points - min_coords) / range_coords) #scales points on range [0, 1]\n",
      "/home/amuseth/dev/src/Neural-Sign-Distance-Learning/Helpers/data.py:70: RuntimeWarning: invalid value encountered in cast\n",
      "  scaled_points = (scaled_points * (2**num_bits - 1)).astype(int) # scales points to [0, 2^num_bits]\n"
     ]
    }
   ],
   "source": [
    "train_dataset_1024 = PointCloudDataset(\"../Data/ModelNet40\", 1024, 'train', object_classes =  None )\n",
    "test_dataset_1024 = PointCloudDataset(\"../Data/ModelNet40\", 1024, 'test', object_classes =  None)\n",
    "\n",
    "test_size = len(test_dataset_1024)\n",
    "split_idx = test_size // 2\n",
    "indices = list(range(test_size))\n",
    "val_dataset_1024 = Subset(test_dataset_1024, indices[:split_idx])\n",
    "test_dataset_1024 = Subset(test_dataset_1024, indices[split_idx:])\n",
    "\n",
    "train_loader_1024= DataLoader(train_dataset_1024, batch_size = 64, shuffle = True)\n",
    "val_loader_1024 = DataLoader(val_dataset_1024, batch_size = 128, shuffle = False)\n",
    "test_loader_1024 = DataLoader(test_dataset_1024, batch_size = 128, shuffle = False)"
   ]
  },
  {
   "cell_type": "code",
   "execution_count": 3,
   "metadata": {},
   "outputs": [
    {
     "name": "stdout",
     "output_type": "stream",
     "text": [
      "ConvAE_6800T(\n",
      "  (encoder): ConvEncoder_6800T(\n",
      "    (conv1): Conv1d(3, 32, kernel_size=(1,), stride=(1,))\n",
      "    (conv2): Conv1d(32, 32, kernel_size=(9,), stride=(1,), padding=(4,))\n",
      "    (conv3): Conv1d(32, 32, kernel_size=(9,), stride=(1,), padding=(4,))\n",
      "    (conv4): Conv1d(32, 16, kernel_size=(8,), stride=(2,), padding=(3,))\n",
      "    (conv5): Conv1d(16, 16, kernel_size=(8,), stride=(2,), padding=(3,))\n",
      "    (conv6): Conv1d(16, 16, kernel_size=(8,), stride=(2,), padding=(3,))\n",
      "    (lin1): Linear(in_features=2048, out_features=1024, bias=True)\n",
      "    (lin2): Linear(in_features=1024, out_features=256, bias=True)\n",
      "  )\n",
      "  (decoder): ConvDecoder(\n",
      "    (l1): Linear(in_features=256, out_features=1024, bias=True)\n",
      "    (l2): Linear(in_features=1024, out_features=2048, bias=True)\n",
      "    (l3): Linear(in_features=2048, out_features=3072, bias=True)\n",
      "    (l4): Linear(in_features=3072, out_features=3072, bias=True)\n",
      "  )\n",
      ")\n"
     ]
    }
   ],
   "source": [
    "# Load model\n",
    "model = ae.ConvAE_6800T(1024, 256)\n",
    "model.load_state_dict(torch.load('../Data/trained_autoencoders/1024_256/Conv_6800T', weights_only=True))\n",
    "print(model.to('cpu'))\n",
    "model = model.to('cpu')"
   ]
  },
  {
   "cell_type": "code",
   "execution_count": 4,
   "metadata": {},
   "outputs": [],
   "source": [
    "def visualize_random_reconstruction(model, x, device, transpose_out = False, show_org = True):\n",
    "    '''\n",
    "    Pick a random cloud from the dataset and show what it looks like before and after autoencoder reconstruction \n",
    "    First window is original point cloud \n",
    "    Second window is recontructed point cloud\n",
    "    '''\n",
    "\n",
    "    def show_cloud(x):\n",
    "        pc.visualize_point_cloud(pc.get_point_cloud(x.cpu().numpy().astype(np.float64)))\n",
    "\n",
    "    \n",
    "    if show_org:\n",
    "        show_cloud(x)\n",
    "\n",
    "    with torch.no_grad():\n",
    "        x = x.unsqueeze(0).permute(0,2,1).to(device)\n",
    "        \n",
    "        rec_x = model(x)[0].to('cpu')\n",
    "        \n",
    "        if transpose_out:\n",
    "            rec_x = rec_x.T\n",
    "        \n",
    "        rec_x = rec_x\n",
    "\n",
    "        show_cloud(rec_x)\n",
    "\n",
    "#visualize_random_reconstruction(model, x, device)"
   ]
  },
  {
   "cell_type": "code",
   "execution_count": null,
   "metadata": {},
   "outputs": [
    {
     "name": "stdout",
     "output_type": "stream",
     "text": [
      "../Data/ModelNet40/sofa/test/sofa_0706.off\n"
     ]
    }
   ],
   "source": [
    "x = next(iter(val_loader_1024))\n",
    "visualize_random_reconstruction(model, x['points'][0].to('cpu'), 'cpu')\n",
    "print(x[\"filename\"][0])"
   ]
  },
  {
   "cell_type": "code",
   "execution_count": 15,
   "metadata": {},
   "outputs": [],
   "source": [
    "def train_one_mesh(filename, model, neural_encoding, optimizer, live_sampling=True, num_points=10000, num_epochs = 10000):\n",
    "    train_losses = []\n",
    "    val_losses = []\n",
    "    criterion = nn.MSELoss()\n",
    "    filename_split = filename.split('/')\n",
    "    filename_split[2] = \"vdbs\"\n",
    "    filename_split[-1]  = filename_split[-1][:-3] + \"vdb\" \n",
    "    vdb_filename = \"\".join([i + '/' for i in filename_split])[:-1]\n",
    "    neural_encoding = neural_encoding.repeat(num_points, 1)\n",
    "    for epoch in tqdm(range(num_epochs)):\n",
    "        points, labels = sample_sdf(vdb_filename, num_points, device=device)\n",
    "        perm = torch.randperm(num_points)\n",
    "        points, labels = points[perm], labels[perm]\n",
    "        optimizer.zero_grad()\n",
    "        outputs = model(points, neural_encoding)\n",
    "        loss = criterion(outputs, labels)\n",
    "        loss.backward()\n",
    "        optimizer.step()\n",
    "        if(epoch % 1000 == 0):\n",
    "           print(labels[0], outputs[0])\n",
    "           label_signs = torch.sign(labels)\n",
    "           output_signs = torch.sign(outputs)\n",
    "           correct_signs = (label_signs == output_signs).sum().item()\n",
    "           print(correct_signs)\n",
    "           print(f'Epoch [{epoch+1}/{num_epochs}], Loss: {loss.item():.4f}')"
   ]
  },
  {
   "cell_type": "code",
   "execution_count": 13,
   "metadata": {},
   "outputs": [],
   "source": [
    "x = next(iter(val_loader_1024))"
   ]
  },
  {
   "cell_type": "code",
   "execution_count": 14,
   "metadata": {},
   "outputs": [
    {
     "name": "stdout",
     "output_type": "stream",
     "text": [
      "torch.Size([1, 256])\n"
     ]
    },
    {
     "name": "stderr",
     "output_type": "stream",
     "text": [
      "  0%|          | 1/10000 [00:00<22:11,  7.51it/s]"
     ]
    },
    {
     "name": "stdout",
     "output_type": "stream",
     "text": [
      "tensor([0.9580], device='cuda:0') tensor([-0.1284], device='cuda:0', grad_fn=<SelectBackward0>)\n",
      "Epoch [1/10000], Loss: 0.3742\n"
     ]
    },
    {
     "name": "stderr",
     "output_type": "stream",
     "text": [
      "  1%|          | 103/10000 [00:08<13:08, 12.56it/s]"
     ]
    },
    {
     "name": "stdout",
     "output_type": "stream",
     "text": [
      "tensor([1.0816], device='cuda:0') tensor([0.1237], device='cuda:0', grad_fn=<SelectBackward0>)\n",
      "Epoch [101/10000], Loss: 0.3168\n"
     ]
    },
    {
     "name": "stderr",
     "output_type": "stream",
     "text": [
      "  2%|▏         | 203/10000 [00:17<13:02, 12.52it/s]"
     ]
    },
    {
     "name": "stdout",
     "output_type": "stream",
     "text": [
      "tensor([0.8803], device='cuda:0') tensor([0.1337], device='cuda:0', grad_fn=<SelectBackward0>)\n",
      "Epoch [201/10000], Loss: 0.3150\n"
     ]
    },
    {
     "name": "stderr",
     "output_type": "stream",
     "text": [
      "  3%|▎         | 301/10000 [00:25<13:04, 12.36it/s]"
     ]
    },
    {
     "name": "stdout",
     "output_type": "stream",
     "text": [
      "tensor([0.1186], device='cuda:0') tensor([0.1655], device='cuda:0', grad_fn=<SelectBackward0>)\n",
      "Epoch [301/10000], Loss: 0.3138\n"
     ]
    },
    {
     "name": "stderr",
     "output_type": "stream",
     "text": [
      "  4%|▍         | 403/10000 [00:34<14:45, 10.83it/s]"
     ]
    },
    {
     "name": "stdout",
     "output_type": "stream",
     "text": [
      "tensor([0.8198], device='cuda:0') tensor([0.0665], device='cuda:0', grad_fn=<SelectBackward0>)\n",
      "Epoch [401/10000], Loss: 0.3125\n"
     ]
    },
    {
     "name": "stderr",
     "output_type": "stream",
     "text": [
      "  5%|▌         | 503/10000 [00:43<13:28, 11.75it/s]"
     ]
    },
    {
     "name": "stdout",
     "output_type": "stream",
     "text": [
      "tensor([-0.2664], device='cuda:0') tensor([0.2220], device='cuda:0', grad_fn=<SelectBackward0>)\n",
      "Epoch [501/10000], Loss: 0.3108\n"
     ]
    },
    {
     "name": "stderr",
     "output_type": "stream",
     "text": [
      "  6%|▌         | 603/10000 [00:51<13:42, 11.42it/s]"
     ]
    },
    {
     "name": "stdout",
     "output_type": "stream",
     "text": [
      "tensor([-0.4812], device='cuda:0') tensor([0.1157], device='cuda:0', grad_fn=<SelectBackward0>)\n",
      "Epoch [601/10000], Loss: 0.3087\n"
     ]
    },
    {
     "name": "stderr",
     "output_type": "stream",
     "text": [
      "  7%|▋         | 703/10000 [01:00<12:29, 12.41it/s]"
     ]
    },
    {
     "name": "stdout",
     "output_type": "stream",
     "text": [
      "tensor([-0.5060], device='cuda:0') tensor([0.1963], device='cuda:0', grad_fn=<SelectBackward0>)\n",
      "Epoch [701/10000], Loss: 0.3060\n"
     ]
    },
    {
     "name": "stderr",
     "output_type": "stream",
     "text": [
      "  8%|▊         | 803/10000 [01:08<12:37, 12.14it/s]"
     ]
    },
    {
     "name": "stdout",
     "output_type": "stream",
     "text": [
      "tensor([-0.5565], device='cuda:0') tensor([0.1630], device='cuda:0', grad_fn=<SelectBackward0>)\n",
      "Epoch [801/10000], Loss: 0.3018\n"
     ]
    },
    {
     "name": "stderr",
     "output_type": "stream",
     "text": [
      "  9%|▉         | 903/10000 [01:17<12:08, 12.49it/s]"
     ]
    },
    {
     "name": "stdout",
     "output_type": "stream",
     "text": [
      "tensor([0.0778], device='cuda:0') tensor([0.0351], device='cuda:0', grad_fn=<SelectBackward0>)\n",
      "Epoch [901/10000], Loss: 0.2956\n"
     ]
    },
    {
     "name": "stderr",
     "output_type": "stream",
     "text": [
      " 10%|█         | 1003/10000 [01:25<11:54, 12.58it/s]"
     ]
    },
    {
     "name": "stdout",
     "output_type": "stream",
     "text": [
      "tensor([0.3868], device='cuda:0') tensor([0.1275], device='cuda:0', grad_fn=<SelectBackward0>)\n",
      "Epoch [1001/10000], Loss: 0.2878\n"
     ]
    },
    {
     "name": "stderr",
     "output_type": "stream",
     "text": [
      " 11%|█         | 1101/10000 [01:33<11:51, 12.51it/s]"
     ]
    },
    {
     "name": "stdout",
     "output_type": "stream",
     "text": [
      "tensor([-0.0307], device='cuda:0') tensor([0.0761], device='cuda:0', grad_fn=<SelectBackward0>)\n",
      "Epoch [1101/10000], Loss: 0.2795\n"
     ]
    },
    {
     "name": "stderr",
     "output_type": "stream",
     "text": [
      " 12%|█▏        | 1203/10000 [01:42<13:00, 11.27it/s]"
     ]
    },
    {
     "name": "stdout",
     "output_type": "stream",
     "text": [
      "tensor([-0.3927], device='cuda:0') tensor([0.1384], device='cuda:0', grad_fn=<SelectBackward0>)\n",
      "Epoch [1201/10000], Loss: 0.2711\n"
     ]
    },
    {
     "name": "stderr",
     "output_type": "stream",
     "text": [
      " 13%|█▎        | 1303/10000 [01:50<12:27, 11.63it/s]"
     ]
    },
    {
     "name": "stdout",
     "output_type": "stream",
     "text": [
      "tensor([-0.5432], device='cuda:0') tensor([-0.1204], device='cuda:0', grad_fn=<SelectBackward0>)\n",
      "Epoch [1301/10000], Loss: 0.2630\n"
     ]
    },
    {
     "name": "stderr",
     "output_type": "stream",
     "text": [
      " 14%|█▍        | 1403/10000 [01:59<12:09, 11.78it/s]"
     ]
    },
    {
     "name": "stdout",
     "output_type": "stream",
     "text": [
      "tensor([-0.6047], device='cuda:0') tensor([-0.0215], device='cuda:0', grad_fn=<SelectBackward0>)\n",
      "Epoch [1401/10000], Loss: 0.2554\n"
     ]
    },
    {
     "name": "stderr",
     "output_type": "stream",
     "text": [
      " 15%|█▌        | 1503/10000 [02:07<11:57, 11.84it/s]"
     ]
    },
    {
     "name": "stdout",
     "output_type": "stream",
     "text": [
      "tensor([-0.2747], device='cuda:0') tensor([-0.2167], device='cuda:0', grad_fn=<SelectBackward0>)\n",
      "Epoch [1501/10000], Loss: 0.2478\n"
     ]
    },
    {
     "name": "stderr",
     "output_type": "stream",
     "text": [
      " 16%|█▌        | 1603/10000 [02:16<10:53, 12.84it/s]"
     ]
    },
    {
     "name": "stdout",
     "output_type": "stream",
     "text": [
      "tensor([-0.5218], device='cuda:0') tensor([-0.0240], device='cuda:0', grad_fn=<SelectBackward0>)\n",
      "Epoch [1601/10000], Loss: 0.2409\n"
     ]
    },
    {
     "name": "stderr",
     "output_type": "stream",
     "text": [
      " 17%|█▋        | 1703/10000 [02:24<11:05, 12.47it/s]"
     ]
    },
    {
     "name": "stdout",
     "output_type": "stream",
     "text": [
      "tensor([1.1304], device='cuda:0') tensor([0.0567], device='cuda:0', grad_fn=<SelectBackward0>)\n",
      "Epoch [1701/10000], Loss: 0.2344\n"
     ]
    },
    {
     "name": "stderr",
     "output_type": "stream",
     "text": [
      " 18%|█▊        | 1803/10000 [02:32<10:34, 12.93it/s]"
     ]
    },
    {
     "name": "stdout",
     "output_type": "stream",
     "text": [
      "tensor([-0.2478], device='cuda:0') tensor([0.0939], device='cuda:0', grad_fn=<SelectBackward0>)\n",
      "Epoch [1801/10000], Loss: 0.2287\n"
     ]
    },
    {
     "name": "stderr",
     "output_type": "stream",
     "text": [
      " 19%|█▉        | 1901/10000 [02:40<11:15, 11.98it/s]"
     ]
    },
    {
     "name": "stdout",
     "output_type": "stream",
     "text": [
      "tensor([-0.4451], device='cuda:0') tensor([-0.2127], device='cuda:0', grad_fn=<SelectBackward0>)\n",
      "Epoch [1901/10000], Loss: 0.2235\n"
     ]
    },
    {
     "name": "stderr",
     "output_type": "stream",
     "text": [
      " 20%|██        | 2003/10000 [02:49<12:19, 10.82it/s]"
     ]
    },
    {
     "name": "stdout",
     "output_type": "stream",
     "text": [
      "tensor([-0.1343], device='cuda:0') tensor([0.0753], device='cuda:0', grad_fn=<SelectBackward0>)\n",
      "Epoch [2001/10000], Loss: 0.2191\n"
     ]
    },
    {
     "name": "stderr",
     "output_type": "stream",
     "text": [
      " 21%|██        | 2103/10000 [02:58<11:10, 11.78it/s]"
     ]
    },
    {
     "name": "stdout",
     "output_type": "stream",
     "text": [
      "tensor([0.0133], device='cuda:0') tensor([0.0313], device='cuda:0', grad_fn=<SelectBackward0>)\n",
      "Epoch [2101/10000], Loss: 0.2151\n"
     ]
    },
    {
     "name": "stderr",
     "output_type": "stream",
     "text": [
      " 22%|██▏       | 2203/10000 [03:07<11:01, 11.79it/s]"
     ]
    },
    {
     "name": "stdout",
     "output_type": "stream",
     "text": [
      "tensor([-0.2493], device='cuda:0') tensor([0.1796], device='cuda:0', grad_fn=<SelectBackward0>)\n",
      "Epoch [2201/10000], Loss: 0.2117\n"
     ]
    },
    {
     "name": "stderr",
     "output_type": "stream",
     "text": [
      " 23%|██▎       | 2303/10000 [03:15<10:04, 12.73it/s]"
     ]
    },
    {
     "name": "stdout",
     "output_type": "stream",
     "text": [
      "tensor([-0.3054], device='cuda:0') tensor([0.1056], device='cuda:0', grad_fn=<SelectBackward0>)\n",
      "Epoch [2301/10000], Loss: 0.2085\n"
     ]
    },
    {
     "name": "stderr",
     "output_type": "stream",
     "text": [
      " 24%|██▍       | 2403/10000 [03:24<09:56, 12.74it/s]"
     ]
    },
    {
     "name": "stdout",
     "output_type": "stream",
     "text": [
      "tensor([-0.5501], device='cuda:0') tensor([-0.4322], device='cuda:0', grad_fn=<SelectBackward0>)\n",
      "Epoch [2401/10000], Loss: 0.2055\n"
     ]
    },
    {
     "name": "stderr",
     "output_type": "stream",
     "text": [
      " 25%|██▌       | 2503/10000 [03:32<09:57, 12.54it/s]"
     ]
    },
    {
     "name": "stdout",
     "output_type": "stream",
     "text": [
      "tensor([-0.5942], device='cuda:0') tensor([-0.0048], device='cuda:0', grad_fn=<SelectBackward0>)\n",
      "Epoch [2501/10000], Loss: 0.2029\n"
     ]
    },
    {
     "name": "stderr",
     "output_type": "stream",
     "text": [
      " 26%|██▌       | 2603/10000 [03:40<09:37, 12.81it/s]"
     ]
    },
    {
     "name": "stdout",
     "output_type": "stream",
     "text": [
      "tensor([0.9968], device='cuda:0') tensor([0.8629], device='cuda:0', grad_fn=<SelectBackward0>)\n",
      "Epoch [2601/10000], Loss: 0.2004\n"
     ]
    },
    {
     "name": "stderr",
     "output_type": "stream",
     "text": [
      " 27%|██▋       | 2701/10000 [03:48<09:26, 12.87it/s]"
     ]
    },
    {
     "name": "stdout",
     "output_type": "stream",
     "text": [
      "tensor([0.8659], device='cuda:0') tensor([0.1103], device='cuda:0', grad_fn=<SelectBackward0>)\n",
      "Epoch [2701/10000], Loss: 0.1980\n"
     ]
    },
    {
     "name": "stderr",
     "output_type": "stream",
     "text": [
      " 28%|██▊       | 2803/10000 [03:57<09:51, 12.17it/s]"
     ]
    },
    {
     "name": "stdout",
     "output_type": "stream",
     "text": [
      "tensor([-0.1270], device='cuda:0') tensor([0.1392], device='cuda:0', grad_fn=<SelectBackward0>)\n",
      "Epoch [2801/10000], Loss: 0.1959\n"
     ]
    },
    {
     "name": "stderr",
     "output_type": "stream",
     "text": [
      " 29%|██▉       | 2903/10000 [04:05<10:20, 11.44it/s]"
     ]
    },
    {
     "name": "stdout",
     "output_type": "stream",
     "text": [
      "tensor([-0.5325], device='cuda:0') tensor([0.1009], device='cuda:0', grad_fn=<SelectBackward0>)\n",
      "Epoch [2901/10000], Loss: 0.1938\n"
     ]
    },
    {
     "name": "stderr",
     "output_type": "stream",
     "text": [
      " 30%|███       | 3003/10000 [04:14<09:40, 12.06it/s]"
     ]
    },
    {
     "name": "stdout",
     "output_type": "stream",
     "text": [
      "tensor([-0.5213], device='cuda:0') tensor([-0.0825], device='cuda:0', grad_fn=<SelectBackward0>)\n",
      "Epoch [3001/10000], Loss: 0.1919\n"
     ]
    },
    {
     "name": "stderr",
     "output_type": "stream",
     "text": [
      " 31%|███       | 3103/10000 [04:22<09:25, 12.19it/s]"
     ]
    },
    {
     "name": "stdout",
     "output_type": "stream",
     "text": [
      "tensor([-0.6041], device='cuda:0') tensor([-0.1087], device='cuda:0', grad_fn=<SelectBackward0>)\n",
      "Epoch [3101/10000], Loss: 0.1901\n"
     ]
    },
    {
     "name": "stderr",
     "output_type": "stream",
     "text": [
      " 32%|███▏      | 3203/10000 [04:31<09:01, 12.55it/s]"
     ]
    },
    {
     "name": "stdout",
     "output_type": "stream",
     "text": [
      "tensor([-0.5500], device='cuda:0') tensor([0.1165], device='cuda:0', grad_fn=<SelectBackward0>)\n",
      "Epoch [3201/10000], Loss: 0.1883\n"
     ]
    },
    {
     "name": "stderr",
     "output_type": "stream",
     "text": [
      " 33%|███▎      | 3303/10000 [04:39<08:47, 12.70it/s]"
     ]
    },
    {
     "name": "stdout",
     "output_type": "stream",
     "text": [
      "tensor([-0.1659], device='cuda:0') tensor([0.1491], device='cuda:0', grad_fn=<SelectBackward0>)\n",
      "Epoch [3301/10000], Loss: 0.1868\n"
     ]
    },
    {
     "name": "stderr",
     "output_type": "stream",
     "text": [
      " 34%|███▍      | 3403/10000 [04:48<08:36, 12.78it/s]"
     ]
    },
    {
     "name": "stdout",
     "output_type": "stream",
     "text": [
      "tensor([-0.5505], device='cuda:0') tensor([-0.2676], device='cuda:0', grad_fn=<SelectBackward0>)\n",
      "Epoch [3401/10000], Loss: 0.1851\n"
     ]
    },
    {
     "name": "stderr",
     "output_type": "stream",
     "text": [
      " 35%|███▌      | 3503/10000 [04:56<09:30, 11.38it/s]"
     ]
    },
    {
     "name": "stdout",
     "output_type": "stream",
     "text": [
      "tensor([0.7390], device='cuda:0') tensor([0.5308], device='cuda:0', grad_fn=<SelectBackward0>)\n",
      "Epoch [3501/10000], Loss: 0.1835\n"
     ]
    },
    {
     "name": "stderr",
     "output_type": "stream",
     "text": [
      " 36%|███▌      | 3603/10000 [05:05<09:11, 11.61it/s]"
     ]
    },
    {
     "name": "stdout",
     "output_type": "stream",
     "text": [
      "tensor([-0.2968], device='cuda:0') tensor([-0.4010], device='cuda:0', grad_fn=<SelectBackward0>)\n",
      "Epoch [3601/10000], Loss: 0.1820\n"
     ]
    },
    {
     "name": "stderr",
     "output_type": "stream",
     "text": [
      " 37%|███▋      | 3703/10000 [05:13<08:47, 11.95it/s]"
     ]
    },
    {
     "name": "stdout",
     "output_type": "stream",
     "text": [
      "tensor([1.1237], device='cuda:0') tensor([0.6038], device='cuda:0', grad_fn=<SelectBackward0>)\n",
      "Epoch [3701/10000], Loss: 0.1805\n"
     ]
    },
    {
     "name": "stderr",
     "output_type": "stream",
     "text": [
      " 38%|███▊      | 3803/10000 [05:21<08:18, 12.44it/s]"
     ]
    },
    {
     "name": "stdout",
     "output_type": "stream",
     "text": [
      "tensor([0.1892], device='cuda:0') tensor([0.0773], device='cuda:0', grad_fn=<SelectBackward0>)\n",
      "Epoch [3801/10000], Loss: 0.1790\n"
     ]
    },
    {
     "name": "stderr",
     "output_type": "stream",
     "text": [
      " 39%|███▉      | 3903/10000 [05:30<08:29, 11.97it/s]"
     ]
    },
    {
     "name": "stdout",
     "output_type": "stream",
     "text": [
      "tensor([-0.4116], device='cuda:0') tensor([-0.1522], device='cuda:0', grad_fn=<SelectBackward0>)\n",
      "Epoch [3901/10000], Loss: 0.1777\n"
     ]
    },
    {
     "name": "stderr",
     "output_type": "stream",
     "text": [
      " 40%|████      | 4003/10000 [05:38<07:52, 12.69it/s]"
     ]
    },
    {
     "name": "stdout",
     "output_type": "stream",
     "text": [
      "tensor([0.2789], device='cuda:0') tensor([-0.0815], device='cuda:0', grad_fn=<SelectBackward0>)\n",
      "Epoch [4001/10000], Loss: 0.1765\n"
     ]
    },
    {
     "name": "stderr",
     "output_type": "stream",
     "text": [
      " 41%|████      | 4103/10000 [05:47<07:44, 12.71it/s]"
     ]
    },
    {
     "name": "stdout",
     "output_type": "stream",
     "text": [
      "tensor([-0.2292], device='cuda:0') tensor([0.2552], device='cuda:0', grad_fn=<SelectBackward0>)\n",
      "Epoch [4101/10000], Loss: 0.1753\n"
     ]
    },
    {
     "name": "stderr",
     "output_type": "stream",
     "text": [
      " 42%|████▏     | 4201/10000 [05:55<08:02, 12.02it/s]"
     ]
    },
    {
     "name": "stdout",
     "output_type": "stream",
     "text": [
      "tensor([0.2137], device='cuda:0') tensor([0.2586], device='cuda:0', grad_fn=<SelectBackward0>)\n",
      "Epoch [4201/10000], Loss: 0.1740\n"
     ]
    },
    {
     "name": "stderr",
     "output_type": "stream",
     "text": [
      " 43%|████▎     | 4303/10000 [06:04<08:48, 10.78it/s]"
     ]
    },
    {
     "name": "stdout",
     "output_type": "stream",
     "text": [
      "tensor([-0.2882], device='cuda:0') tensor([-0.1291], device='cuda:0', grad_fn=<SelectBackward0>)\n",
      "Epoch [4301/10000], Loss: 0.1727\n"
     ]
    },
    {
     "name": "stderr",
     "output_type": "stream",
     "text": [
      " 44%|████▍     | 4403/10000 [06:13<08:18, 11.23it/s]"
     ]
    },
    {
     "name": "stdout",
     "output_type": "stream",
     "text": [
      "tensor([0.3654], device='cuda:0') tensor([0.3407], device='cuda:0', grad_fn=<SelectBackward0>)\n",
      "Epoch [4401/10000], Loss: 0.1716\n"
     ]
    },
    {
     "name": "stderr",
     "output_type": "stream",
     "text": [
      " 45%|████▌     | 4503/10000 [06:22<08:05, 11.32it/s]"
     ]
    },
    {
     "name": "stdout",
     "output_type": "stream",
     "text": [
      "tensor([1.1269], device='cuda:0') tensor([0.2339], device='cuda:0', grad_fn=<SelectBackward0>)\n",
      "Epoch [4501/10000], Loss: 0.1704\n"
     ]
    },
    {
     "name": "stderr",
     "output_type": "stream",
     "text": [
      " 46%|████▌     | 4603/10000 [06:30<07:27, 12.07it/s]"
     ]
    },
    {
     "name": "stdout",
     "output_type": "stream",
     "text": [
      "tensor([-0.4168], device='cuda:0') tensor([-0.2348], device='cuda:0', grad_fn=<SelectBackward0>)\n",
      "Epoch [4601/10000], Loss: 0.1693\n"
     ]
    },
    {
     "name": "stderr",
     "output_type": "stream",
     "text": [
      " 47%|████▋     | 4703/10000 [06:39<07:26, 11.87it/s]"
     ]
    },
    {
     "name": "stdout",
     "output_type": "stream",
     "text": [
      "tensor([-0.0425], device='cuda:0') tensor([0.0700], device='cuda:0', grad_fn=<SelectBackward0>)\n",
      "Epoch [4701/10000], Loss: 0.1683\n"
     ]
    },
    {
     "name": "stderr",
     "output_type": "stream",
     "text": [
      " 48%|████▊     | 4803/10000 [06:48<06:55, 12.51it/s]"
     ]
    },
    {
     "name": "stdout",
     "output_type": "stream",
     "text": [
      "tensor([0.2569], device='cuda:0') tensor([0.2373], device='cuda:0', grad_fn=<SelectBackward0>)\n",
      "Epoch [4801/10000], Loss: 0.1673\n"
     ]
    },
    {
     "name": "stderr",
     "output_type": "stream",
     "text": [
      " 49%|████▉     | 4903/10000 [06:56<06:45, 12.57it/s]"
     ]
    },
    {
     "name": "stdout",
     "output_type": "stream",
     "text": [
      "tensor([-0.2935], device='cuda:0') tensor([-0.1023], device='cuda:0', grad_fn=<SelectBackward0>)\n",
      "Epoch [4901/10000], Loss: 0.1664\n"
     ]
    },
    {
     "name": "stderr",
     "output_type": "stream",
     "text": [
      " 50%|█████     | 5001/10000 [07:04<06:38, 12.54it/s]"
     ]
    },
    {
     "name": "stdout",
     "output_type": "stream",
     "text": [
      "tensor([-0.5224], device='cuda:0') tensor([-0.0597], device='cuda:0', grad_fn=<SelectBackward0>)\n",
      "Epoch [5001/10000], Loss: 0.1654\n"
     ]
    },
    {
     "name": "stderr",
     "output_type": "stream",
     "text": [
      " 51%|█████     | 5103/10000 [07:13<07:11, 11.36it/s]"
     ]
    },
    {
     "name": "stdout",
     "output_type": "stream",
     "text": [
      "tensor([-0.1498], device='cuda:0') tensor([0.3259], device='cuda:0', grad_fn=<SelectBackward0>)\n",
      "Epoch [5101/10000], Loss: 0.1645\n"
     ]
    },
    {
     "name": "stderr",
     "output_type": "stream",
     "text": [
      " 52%|█████▏    | 5203/10000 [07:21<06:57, 11.50it/s]"
     ]
    },
    {
     "name": "stdout",
     "output_type": "stream",
     "text": [
      "tensor([-0.0246], device='cuda:0') tensor([0.0729], device='cuda:0', grad_fn=<SelectBackward0>)\n",
      "Epoch [5201/10000], Loss: 0.1636\n"
     ]
    },
    {
     "name": "stderr",
     "output_type": "stream",
     "text": [
      " 53%|█████▎    | 5303/10000 [07:30<06:33, 11.95it/s]"
     ]
    },
    {
     "name": "stdout",
     "output_type": "stream",
     "text": [
      "tensor([-0.6434], device='cuda:0') tensor([-0.2336], device='cuda:0', grad_fn=<SelectBackward0>)\n",
      "Epoch [5301/10000], Loss: 0.1627\n"
     ]
    },
    {
     "name": "stderr",
     "output_type": "stream",
     "text": [
      " 54%|█████▍    | 5403/10000 [07:38<06:09, 12.44it/s]"
     ]
    },
    {
     "name": "stdout",
     "output_type": "stream",
     "text": [
      "tensor([0.6422], device='cuda:0') tensor([0.4906], device='cuda:0', grad_fn=<SelectBackward0>)\n",
      "Epoch [5401/10000], Loss: 0.1619\n"
     ]
    },
    {
     "name": "stderr",
     "output_type": "stream",
     "text": [
      " 55%|█████▌    | 5503/10000 [07:46<06:05, 12.29it/s]"
     ]
    },
    {
     "name": "stdout",
     "output_type": "stream",
     "text": [
      "tensor([-0.4869], device='cuda:0') tensor([-0.4423], device='cuda:0', grad_fn=<SelectBackward0>)\n",
      "Epoch [5501/10000], Loss: 0.1612\n"
     ]
    },
    {
     "name": "stderr",
     "output_type": "stream",
     "text": [
      " 56%|█████▌    | 5603/10000 [07:55<05:54, 12.39it/s]"
     ]
    },
    {
     "name": "stdout",
     "output_type": "stream",
     "text": [
      "tensor([-0.4689], device='cuda:0') tensor([0.2239], device='cuda:0', grad_fn=<SelectBackward0>)\n",
      "Epoch [5601/10000], Loss: 0.1604\n"
     ]
    },
    {
     "name": "stderr",
     "output_type": "stream",
     "text": [
      " 57%|█████▋    | 5703/10000 [08:03<05:37, 12.74it/s]"
     ]
    },
    {
     "name": "stdout",
     "output_type": "stream",
     "text": [
      "tensor([0.6944], device='cuda:0') tensor([0.2881], device='cuda:0', grad_fn=<SelectBackward0>)\n",
      "Epoch [5701/10000], Loss: 0.1598\n"
     ]
    },
    {
     "name": "stderr",
     "output_type": "stream",
     "text": [
      " 58%|█████▊    | 5803/10000 [08:12<06:02, 11.58it/s]"
     ]
    },
    {
     "name": "stdout",
     "output_type": "stream",
     "text": [
      "tensor([-0.2986], device='cuda:0') tensor([-0.0441], device='cuda:0', grad_fn=<SelectBackward0>)\n",
      "Epoch [5801/10000], Loss: 0.1589\n"
     ]
    },
    {
     "name": "stderr",
     "output_type": "stream",
     "text": [
      " 59%|█████▉    | 5903/10000 [08:20<05:59, 11.38it/s]"
     ]
    },
    {
     "name": "stdout",
     "output_type": "stream",
     "text": [
      "tensor([-0.1364], device='cuda:0') tensor([-0.1177], device='cuda:0', grad_fn=<SelectBackward0>)\n",
      "Epoch [5901/10000], Loss: 0.1582\n"
     ]
    },
    {
     "name": "stderr",
     "output_type": "stream",
     "text": [
      " 60%|██████    | 6003/10000 [08:28<05:37, 11.85it/s]"
     ]
    },
    {
     "name": "stdout",
     "output_type": "stream",
     "text": [
      "tensor([1.1073], device='cuda:0') tensor([0.9201], device='cuda:0', grad_fn=<SelectBackward0>)\n",
      "Epoch [6001/10000], Loss: 0.1574\n"
     ]
    },
    {
     "name": "stderr",
     "output_type": "stream",
     "text": [
      " 61%|██████    | 6103/10000 [08:36<05:19, 12.18it/s]"
     ]
    },
    {
     "name": "stdout",
     "output_type": "stream",
     "text": [
      "tensor([0.8224], device='cuda:0') tensor([0.6289], device='cuda:0', grad_fn=<SelectBackward0>)\n",
      "Epoch [6101/10000], Loss: 0.1567\n"
     ]
    },
    {
     "name": "stderr",
     "output_type": "stream",
     "text": [
      " 62%|██████▏   | 6203/10000 [08:45<05:11, 12.20it/s]"
     ]
    },
    {
     "name": "stdout",
     "output_type": "stream",
     "text": [
      "tensor([-0.4423], device='cuda:0') tensor([-0.2799], device='cuda:0', grad_fn=<SelectBackward0>)\n",
      "Epoch [6201/10000], Loss: 0.1562\n"
     ]
    },
    {
     "name": "stderr",
     "output_type": "stream",
     "text": [
      " 63%|██████▎   | 6303/10000 [08:53<04:54, 12.56it/s]"
     ]
    },
    {
     "name": "stdout",
     "output_type": "stream",
     "text": [
      "tensor([0.5904], device='cuda:0') tensor([-0.0689], device='cuda:0', grad_fn=<SelectBackward0>)\n",
      "Epoch [6301/10000], Loss: 0.1552\n"
     ]
    },
    {
     "name": "stderr",
     "output_type": "stream",
     "text": [
      " 64%|██████▍   | 6403/10000 [09:01<04:45, 12.60it/s]"
     ]
    },
    {
     "name": "stdout",
     "output_type": "stream",
     "text": [
      "tensor([-0.2076], device='cuda:0') tensor([-0.1818], device='cuda:0', grad_fn=<SelectBackward0>)\n",
      "Epoch [6401/10000], Loss: 0.1546\n"
     ]
    },
    {
     "name": "stderr",
     "output_type": "stream",
     "text": [
      " 65%|██████▌   | 6501/10000 [09:10<04:37, 12.60it/s]"
     ]
    },
    {
     "name": "stdout",
     "output_type": "stream",
     "text": [
      "tensor([-0.5811], device='cuda:0') tensor([-0.2027], device='cuda:0', grad_fn=<SelectBackward0>)\n",
      "Epoch [6501/10000], Loss: 0.1540\n"
     ]
    },
    {
     "name": "stderr",
     "output_type": "stream",
     "text": [
      " 66%|██████▌   | 6601/10000 [09:18<04:23, 12.88it/s]"
     ]
    },
    {
     "name": "stdout",
     "output_type": "stream",
     "text": [
      "tensor([-0.4433], device='cuda:0') tensor([-0.2526], device='cuda:0', grad_fn=<SelectBackward0>)\n",
      "Epoch [6601/10000], Loss: 0.1534\n"
     ]
    },
    {
     "name": "stderr",
     "output_type": "stream",
     "text": [
      " 67%|██████▋   | 6703/10000 [09:27<04:40, 11.76it/s]"
     ]
    },
    {
     "name": "stdout",
     "output_type": "stream",
     "text": [
      "tensor([-0.4776], device='cuda:0') tensor([-0.2713], device='cuda:0', grad_fn=<SelectBackward0>)\n",
      "Epoch [6701/10000], Loss: 0.1529\n"
     ]
    },
    {
     "name": "stderr",
     "output_type": "stream",
     "text": [
      " 68%|██████▊   | 6803/10000 [09:35<04:35, 11.62it/s]"
     ]
    },
    {
     "name": "stdout",
     "output_type": "stream",
     "text": [
      "tensor([-0.5334], device='cuda:0') tensor([-0.4180], device='cuda:0', grad_fn=<SelectBackward0>)\n",
      "Epoch [6801/10000], Loss: 0.1524\n"
     ]
    },
    {
     "name": "stderr",
     "output_type": "stream",
     "text": [
      " 69%|██████▉   | 6903/10000 [09:43<04:16, 12.07it/s]"
     ]
    },
    {
     "name": "stdout",
     "output_type": "stream",
     "text": [
      "tensor([0.3743], device='cuda:0') tensor([0.1354], device='cuda:0', grad_fn=<SelectBackward0>)\n",
      "Epoch [6901/10000], Loss: 0.1518\n"
     ]
    },
    {
     "name": "stderr",
     "output_type": "stream",
     "text": [
      " 70%|███████   | 7003/10000 [09:52<04:09, 12.04it/s]"
     ]
    },
    {
     "name": "stdout",
     "output_type": "stream",
     "text": [
      "tensor([1.0187], device='cuda:0') tensor([0.6998], device='cuda:0', grad_fn=<SelectBackward0>)\n",
      "Epoch [7001/10000], Loss: 0.1510\n"
     ]
    },
    {
     "name": "stderr",
     "output_type": "stream",
     "text": [
      " 71%|███████   | 7103/10000 [10:00<03:56, 12.24it/s]"
     ]
    },
    {
     "name": "stdout",
     "output_type": "stream",
     "text": [
      "tensor([-0.0625], device='cuda:0') tensor([0.0659], device='cuda:0', grad_fn=<SelectBackward0>)\n",
      "Epoch [7101/10000], Loss: 0.1505\n"
     ]
    },
    {
     "name": "stderr",
     "output_type": "stream",
     "text": [
      " 72%|███████▏  | 7203/10000 [10:09<03:37, 12.85it/s]"
     ]
    },
    {
     "name": "stdout",
     "output_type": "stream",
     "text": [
      "tensor([0.0550], device='cuda:0') tensor([-0.0889], device='cuda:0', grad_fn=<SelectBackward0>)\n",
      "Epoch [7201/10000], Loss: 0.1501\n"
     ]
    },
    {
     "name": "stderr",
     "output_type": "stream",
     "text": [
      " 73%|███████▎  | 7303/10000 [10:17<03:33, 12.61it/s]"
     ]
    },
    {
     "name": "stdout",
     "output_type": "stream",
     "text": [
      "tensor([-0.2350], device='cuda:0') tensor([-0.0735], device='cuda:0', grad_fn=<SelectBackward0>)\n",
      "Epoch [7301/10000], Loss: 0.1495\n"
     ]
    },
    {
     "name": "stderr",
     "output_type": "stream",
     "text": [
      " 74%|███████▍  | 7403/10000 [10:25<04:03, 10.67it/s]"
     ]
    },
    {
     "name": "stdout",
     "output_type": "stream",
     "text": [
      "tensor([0.1714], device='cuda:0') tensor([0.3203], device='cuda:0', grad_fn=<SelectBackward0>)\n",
      "Epoch [7401/10000], Loss: 0.1488\n"
     ]
    },
    {
     "name": "stderr",
     "output_type": "stream",
     "text": [
      " 75%|███████▌  | 7503/10000 [10:34<03:38, 11.44it/s]"
     ]
    },
    {
     "name": "stdout",
     "output_type": "stream",
     "text": [
      "tensor([0.9719], device='cuda:0') tensor([0.3269], device='cuda:0', grad_fn=<SelectBackward0>)\n",
      "Epoch [7501/10000], Loss: 0.1486\n"
     ]
    },
    {
     "name": "stderr",
     "output_type": "stream",
     "text": [
      " 76%|███████▌  | 7603/10000 [10:42<03:16, 12.22it/s]"
     ]
    },
    {
     "name": "stdout",
     "output_type": "stream",
     "text": [
      "tensor([-0.2356], device='cuda:0') tensor([-0.0808], device='cuda:0', grad_fn=<SelectBackward0>)\n",
      "Epoch [7601/10000], Loss: 0.1479\n"
     ]
    },
    {
     "name": "stderr",
     "output_type": "stream",
     "text": [
      " 77%|███████▋  | 7703/10000 [10:50<03:09, 12.09it/s]"
     ]
    },
    {
     "name": "stdout",
     "output_type": "stream",
     "text": [
      "tensor([-0.2334], device='cuda:0') tensor([-0.3719], device='cuda:0', grad_fn=<SelectBackward0>)\n",
      "Epoch [7701/10000], Loss: 0.1475\n"
     ]
    },
    {
     "name": "stderr",
     "output_type": "stream",
     "text": [
      " 78%|███████▊  | 7803/10000 [10:59<02:59, 12.25it/s]"
     ]
    },
    {
     "name": "stdout",
     "output_type": "stream",
     "text": [
      "tensor([-0.6478], device='cuda:0') tensor([-0.6698], device='cuda:0', grad_fn=<SelectBackward0>)\n",
      "Epoch [7801/10000], Loss: 0.1469\n"
     ]
    },
    {
     "name": "stderr",
     "output_type": "stream",
     "text": [
      " 79%|███████▉  | 7903/10000 [11:07<02:44, 12.75it/s]"
     ]
    },
    {
     "name": "stdout",
     "output_type": "stream",
     "text": [
      "tensor([-0.3329], device='cuda:0') tensor([0.0381], device='cuda:0', grad_fn=<SelectBackward0>)\n",
      "Epoch [7901/10000], Loss: 0.1465\n"
     ]
    },
    {
     "name": "stderr",
     "output_type": "stream",
     "text": [
      " 80%|████████  | 8003/10000 [11:16<02:35, 12.81it/s]"
     ]
    },
    {
     "name": "stdout",
     "output_type": "stream",
     "text": [
      "tensor([-0.5033], device='cuda:0') tensor([-0.1609], device='cuda:0', grad_fn=<SelectBackward0>)\n",
      "Epoch [8001/10000], Loss: 0.1459\n"
     ]
    },
    {
     "name": "stderr",
     "output_type": "stream",
     "text": [
      " 81%|████████  | 8101/10000 [11:24<02:29, 12.67it/s]"
     ]
    },
    {
     "name": "stdout",
     "output_type": "stream",
     "text": [
      "tensor([-0.5309], device='cuda:0') tensor([-0.3943], device='cuda:0', grad_fn=<SelectBackward0>)\n",
      "Epoch [8101/10000], Loss: 0.1456\n"
     ]
    },
    {
     "name": "stderr",
     "output_type": "stream",
     "text": [
      " 82%|████████▏ | 8203/10000 [11:33<02:45, 10.89it/s]"
     ]
    },
    {
     "name": "stdout",
     "output_type": "stream",
     "text": [
      "tensor([0.9321], device='cuda:0') tensor([0.1681], device='cuda:0', grad_fn=<SelectBackward0>)\n",
      "Epoch [8201/10000], Loss: 0.1449\n"
     ]
    },
    {
     "name": "stderr",
     "output_type": "stream",
     "text": [
      " 83%|████████▎ | 8303/10000 [11:41<02:25, 11.66it/s]"
     ]
    },
    {
     "name": "stdout",
     "output_type": "stream",
     "text": [
      "tensor([0.3319], device='cuda:0') tensor([0.0124], device='cuda:0', grad_fn=<SelectBackward0>)\n",
      "Epoch [8301/10000], Loss: 0.1447\n"
     ]
    },
    {
     "name": "stderr",
     "output_type": "stream",
     "text": [
      " 84%|████████▍ | 8403/10000 [11:49<02:10, 12.27it/s]"
     ]
    },
    {
     "name": "stdout",
     "output_type": "stream",
     "text": [
      "tensor([-0.5766], device='cuda:0') tensor([-0.1266], device='cuda:0', grad_fn=<SelectBackward0>)\n",
      "Epoch [8401/10000], Loss: 0.1439\n"
     ]
    },
    {
     "name": "stderr",
     "output_type": "stream",
     "text": [
      " 85%|████████▌ | 8503/10000 [11:58<02:01, 12.35it/s]"
     ]
    },
    {
     "name": "stdout",
     "output_type": "stream",
     "text": [
      "tensor([0.9562], device='cuda:0') tensor([0.5226], device='cuda:0', grad_fn=<SelectBackward0>)\n",
      "Epoch [8501/10000], Loss: 0.1438\n"
     ]
    },
    {
     "name": "stderr",
     "output_type": "stream",
     "text": [
      " 86%|████████▌ | 8603/10000 [12:06<01:50, 12.63it/s]"
     ]
    },
    {
     "name": "stdout",
     "output_type": "stream",
     "text": [
      "tensor([-0.5405], device='cuda:0') tensor([-0.5432], device='cuda:0', grad_fn=<SelectBackward0>)\n",
      "Epoch [8601/10000], Loss: 0.1431\n"
     ]
    },
    {
     "name": "stderr",
     "output_type": "stream",
     "text": [
      " 87%|████████▋ | 8703/10000 [12:15<01:47, 12.02it/s]"
     ]
    },
    {
     "name": "stdout",
     "output_type": "stream",
     "text": [
      "tensor([0.3240], device='cuda:0') tensor([-0.0188], device='cuda:0', grad_fn=<SelectBackward0>)\n",
      "Epoch [8701/10000], Loss: 0.1428\n"
     ]
    },
    {
     "name": "stderr",
     "output_type": "stream",
     "text": [
      " 88%|████████▊ | 8803/10000 [12:23<01:37, 12.32it/s]"
     ]
    },
    {
     "name": "stdout",
     "output_type": "stream",
     "text": [
      "tensor([-0.5389], device='cuda:0') tensor([-0.3231], device='cuda:0', grad_fn=<SelectBackward0>)\n",
      "Epoch [8801/10000], Loss: 0.1424\n"
     ]
    },
    {
     "name": "stderr",
     "output_type": "stream",
     "text": [
      " 89%|████████▉ | 8901/10000 [12:31<01:26, 12.77it/s]"
     ]
    },
    {
     "name": "stdout",
     "output_type": "stream",
     "text": [
      "tensor([1.0844], device='cuda:0') tensor([0.0815], device='cuda:0', grad_fn=<SelectBackward0>)\n",
      "Epoch [8901/10000], Loss: 0.1419\n"
     ]
    },
    {
     "name": "stderr",
     "output_type": "stream",
     "text": [
      " 90%|█████████ | 9003/10000 [12:40<01:28, 11.26it/s]"
     ]
    },
    {
     "name": "stdout",
     "output_type": "stream",
     "text": [
      "tensor([-0.5874], device='cuda:0') tensor([-0.3105], device='cuda:0', grad_fn=<SelectBackward0>)\n",
      "Epoch [9001/10000], Loss: 0.1413\n"
     ]
    },
    {
     "name": "stderr",
     "output_type": "stream",
     "text": [
      " 91%|█████████ | 9103/10000 [12:48<01:19, 11.25it/s]"
     ]
    },
    {
     "name": "stdout",
     "output_type": "stream",
     "text": [
      "tensor([-0.1160], device='cuda:0') tensor([-0.1417], device='cuda:0', grad_fn=<SelectBackward0>)\n",
      "Epoch [9101/10000], Loss: 0.1412\n"
     ]
    },
    {
     "name": "stderr",
     "output_type": "stream",
     "text": [
      " 92%|█████████▏| 9203/10000 [12:57<01:05, 12.19it/s]"
     ]
    },
    {
     "name": "stdout",
     "output_type": "stream",
     "text": [
      "tensor([0.1138], device='cuda:0') tensor([0.3066], device='cuda:0', grad_fn=<SelectBackward0>)\n",
      "Epoch [9201/10000], Loss: 0.1405\n"
     ]
    },
    {
     "name": "stderr",
     "output_type": "stream",
     "text": [
      " 93%|█████████▎| 9303/10000 [13:05<00:56, 12.44it/s]"
     ]
    },
    {
     "name": "stdout",
     "output_type": "stream",
     "text": [
      "tensor([0.6970], device='cuda:0') tensor([0.5932], device='cuda:0', grad_fn=<SelectBackward0>)\n",
      "Epoch [9301/10000], Loss: 0.1403\n"
     ]
    },
    {
     "name": "stderr",
     "output_type": "stream",
     "text": [
      " 94%|█████████▍| 9403/10000 [13:13<00:47, 12.60it/s]"
     ]
    },
    {
     "name": "stdout",
     "output_type": "stream",
     "text": [
      "tensor([0.4672], device='cuda:0') tensor([-0.0882], device='cuda:0', grad_fn=<SelectBackward0>)\n",
      "Epoch [9401/10000], Loss: 0.1397\n"
     ]
    },
    {
     "name": "stderr",
     "output_type": "stream",
     "text": [
      " 95%|█████████▌| 9503/10000 [13:22<00:39, 12.57it/s]"
     ]
    },
    {
     "name": "stdout",
     "output_type": "stream",
     "text": [
      "tensor([0.7255], device='cuda:0') tensor([0.5943], device='cuda:0', grad_fn=<SelectBackward0>)\n",
      "Epoch [9501/10000], Loss: 0.1395\n"
     ]
    },
    {
     "name": "stderr",
     "output_type": "stream",
     "text": [
      " 96%|█████████▌| 9603/10000 [13:30<00:31, 12.64it/s]"
     ]
    },
    {
     "name": "stdout",
     "output_type": "stream",
     "text": [
      "tensor([0.5967], device='cuda:0') tensor([0.6104], device='cuda:0', grad_fn=<SelectBackward0>)\n",
      "Epoch [9601/10000], Loss: 0.1389\n"
     ]
    },
    {
     "name": "stderr",
     "output_type": "stream",
     "text": [
      " 97%|█████████▋| 9703/10000 [13:38<00:27, 10.83it/s]"
     ]
    },
    {
     "name": "stdout",
     "output_type": "stream",
     "text": [
      "tensor([-0.5736], device='cuda:0') tensor([-0.1033], device='cuda:0', grad_fn=<SelectBackward0>)\n",
      "Epoch [9701/10000], Loss: 0.1387\n"
     ]
    },
    {
     "name": "stderr",
     "output_type": "stream",
     "text": [
      " 98%|█████████▊| 9803/10000 [13:47<00:18, 10.93it/s]"
     ]
    },
    {
     "name": "stdout",
     "output_type": "stream",
     "text": [
      "tensor([-0.5218], device='cuda:0') tensor([-0.1341], device='cuda:0', grad_fn=<SelectBackward0>)\n",
      "Epoch [9801/10000], Loss: 0.1382\n"
     ]
    },
    {
     "name": "stderr",
     "output_type": "stream",
     "text": [
      " 99%|█████████▉| 9903/10000 [13:55<00:07, 12.19it/s]"
     ]
    },
    {
     "name": "stdout",
     "output_type": "stream",
     "text": [
      "tensor([0.8779], device='cuda:0') tensor([0.1265], device='cuda:0', grad_fn=<SelectBackward0>)\n",
      "Epoch [9901/10000], Loss: 0.1379\n"
     ]
    },
    {
     "name": "stderr",
     "output_type": "stream",
     "text": [
      "100%|██████████| 10000/10000 [14:03<00:00, 11.85it/s]\n"
     ]
    }
   ],
   "source": [
    "y = x[\"points\"][0].unsqueeze(0).permute(0,2,1).to(device)\n",
    "model.to(device) \n",
    "with torch.no_grad():\n",
    "    neural_encoding = model.encoder(y)\n",
    "sdf_model = SDFRegressionModel(3, 256, 128)\n",
    "sdf_model.to(device)\n",
    "optimizer = optim.AdamW(sdf_model.parameters(), lr=0.0001)\n",
    "print(neural_encoding.shape)\n",
    "train_one_mesh(x['filename'][0], sdf_model, neural_encoding, optimizer)"
   ]
  },
  {
   "cell_type": "code",
   "execution_count": 16,
   "metadata": {},
   "outputs": [
    {
     "name": "stderr",
     "output_type": "stream",
     "text": [
      "  0%|          | 2/10000 [00:00<14:38, 11.38it/s]"
     ]
    },
    {
     "name": "stdout",
     "output_type": "stream",
     "text": [
      "tensor([-0.3270], device='cuda:0') tensor([0.1707], device='cuda:0', grad_fn=<SelectBackward0>)\n",
      "7891\n",
      "Epoch [1/10000], Loss: 0.1373\n"
     ]
    },
    {
     "name": "stderr",
     "output_type": "stream",
     "text": [
      " 10%|█         | 1002/10000 [01:23<12:03, 12.44it/s]"
     ]
    },
    {
     "name": "stdout",
     "output_type": "stream",
     "text": [
      "tensor([-0.1702], device='cuda:0') tensor([0.2981], device='cuda:0', grad_fn=<SelectBackward0>)\n",
      "7966\n",
      "Epoch [1001/10000], Loss: 0.1340\n"
     ]
    },
    {
     "name": "stderr",
     "output_type": "stream",
     "text": [
      " 20%|██        | 2002/10000 [02:47<10:29, 12.71it/s]"
     ]
    },
    {
     "name": "stdout",
     "output_type": "stream",
     "text": [
      "tensor([1.0400], device='cuda:0') tensor([0.4601], device='cuda:0', grad_fn=<SelectBackward0>)\n",
      "8028\n",
      "Epoch [2001/10000], Loss: 0.1311\n"
     ]
    },
    {
     "name": "stderr",
     "output_type": "stream",
     "text": [
      " 30%|███       | 3002/10000 [04:11<10:03, 11.59it/s]"
     ]
    },
    {
     "name": "stdout",
     "output_type": "stream",
     "text": [
      "tensor([0.2116], device='cuda:0') tensor([0.2077], device='cuda:0', grad_fn=<SelectBackward0>)\n",
      "7989\n",
      "Epoch [3001/10000], Loss: 0.1284\n"
     ]
    },
    {
     "name": "stderr",
     "output_type": "stream",
     "text": [
      " 40%|████      | 4002/10000 [05:36<08:10, 12.23it/s]"
     ]
    },
    {
     "name": "stdout",
     "output_type": "stream",
     "text": [
      "tensor([-0.5531], device='cuda:0') tensor([0.1599], device='cuda:0', grad_fn=<SelectBackward0>)\n",
      "7992\n",
      "Epoch [4001/10000], Loss: 0.1263\n"
     ]
    },
    {
     "name": "stderr",
     "output_type": "stream",
     "text": [
      " 50%|█████     | 5002/10000 [07:00<06:42, 12.41it/s]"
     ]
    },
    {
     "name": "stdout",
     "output_type": "stream",
     "text": [
      "tensor([0.6680], device='cuda:0') tensor([0.8060], device='cuda:0', grad_fn=<SelectBackward0>)\n",
      "8098\n",
      "Epoch [5001/10000], Loss: 0.1238\n"
     ]
    },
    {
     "name": "stderr",
     "output_type": "stream",
     "text": [
      " 60%|██████    | 6002/10000 [08:24<05:54, 11.27it/s]"
     ]
    },
    {
     "name": "stdout",
     "output_type": "stream",
     "text": [
      "tensor([0.2920], device='cuda:0') tensor([0.4891], device='cuda:0', grad_fn=<SelectBackward0>)\n",
      "8079\n",
      "Epoch [6001/10000], Loss: 0.1220\n"
     ]
    },
    {
     "name": "stderr",
     "output_type": "stream",
     "text": [
      " 70%|███████   | 7002/10000 [09:49<04:17, 11.66it/s]"
     ]
    },
    {
     "name": "stdout",
     "output_type": "stream",
     "text": [
      "tensor([-0.3597], device='cuda:0') tensor([-0.0326], device='cuda:0', grad_fn=<SelectBackward0>)\n",
      "8145\n",
      "Epoch [7001/10000], Loss: 0.1200\n"
     ]
    },
    {
     "name": "stderr",
     "output_type": "stream",
     "text": [
      " 80%|████████  | 8002/10000 [11:13<02:41, 12.40it/s]"
     ]
    },
    {
     "name": "stdout",
     "output_type": "stream",
     "text": [
      "tensor([-0.5703], device='cuda:0') tensor([0.1685], device='cuda:0', grad_fn=<SelectBackward0>)\n",
      "8190\n",
      "Epoch [8001/10000], Loss: 0.1186\n"
     ]
    },
    {
     "name": "stderr",
     "output_type": "stream",
     "text": [
      " 90%|█████████ | 9002/10000 [12:39<01:20, 12.46it/s]"
     ]
    },
    {
     "name": "stdout",
     "output_type": "stream",
     "text": [
      "tensor([-0.4740], device='cuda:0') tensor([-0.3804], device='cuda:0', grad_fn=<SelectBackward0>)\n",
      "8145\n",
      "Epoch [9001/10000], Loss: 0.1172\n"
     ]
    },
    {
     "name": "stderr",
     "output_type": "stream",
     "text": [
      "100%|██████████| 10000/10000 [14:03<00:00, 11.86it/s]\n"
     ]
    }
   ],
   "source": [
    "train_one_mesh(x['filename'][0], sdf_model, neural_encoding, optimizer)"
   ]
  },
  {
   "cell_type": "code",
   "execution_count": 18,
   "metadata": {},
   "outputs": [
    {
     "name": "stdout",
     "output_type": "stream",
     "text": [
      "torch.Size([1, 256])\n"
     ]
    },
    {
     "name": "stderr",
     "output_type": "stream",
     "text": [
      "  0%|          | 3/100000 [00:00<3:12:41,  8.65it/s]"
     ]
    },
    {
     "name": "stdout",
     "output_type": "stream",
     "text": [
      "tensor([0.9908], device='cuda:0') tensor([-0.0876], device='cuda:0', grad_fn=<SelectBackward0>)\n",
      "4817\n",
      "Epoch [1/100000], Loss: 0.3476\n"
     ]
    },
    {
     "name": "stderr",
     "output_type": "stream",
     "text": [
      "  0%|          | 23/100000 [00:02<2:59:42,  9.27it/s]\n"
     ]
    },
    {
     "ename": "KeyboardInterrupt",
     "evalue": "",
     "output_type": "error",
     "traceback": [
      "\u001b[0;31m---------------------------------------------------------------------------\u001b[0m",
      "\u001b[0;31mKeyboardInterrupt\u001b[0m                         Traceback (most recent call last)",
      "Cell \u001b[0;32mIn[18], line 9\u001b[0m\n\u001b[1;32m      7\u001b[0m optimizer \u001b[38;5;241m=\u001b[39m optim\u001b[38;5;241m.\u001b[39mAdamW(sdf_model2\u001b[38;5;241m.\u001b[39mparameters(), lr\u001b[38;5;241m=\u001b[39m\u001b[38;5;241m0.001\u001b[39m)\n\u001b[1;32m      8\u001b[0m \u001b[38;5;28mprint\u001b[39m(neural_encoding\u001b[38;5;241m.\u001b[39mshape)\n\u001b[0;32m----> 9\u001b[0m \u001b[43mtrain_one_mesh\u001b[49m\u001b[43m(\u001b[49m\u001b[43mx\u001b[49m\u001b[43m[\u001b[49m\u001b[38;5;124;43m'\u001b[39;49m\u001b[38;5;124;43mfilename\u001b[39;49m\u001b[38;5;124;43m'\u001b[39;49m\u001b[43m]\u001b[49m\u001b[43m[\u001b[49m\u001b[38;5;241;43m0\u001b[39;49m\u001b[43m]\u001b[49m\u001b[43m,\u001b[49m\u001b[43m \u001b[49m\u001b[43msdf_model2\u001b[49m\u001b[43m,\u001b[49m\u001b[43m \u001b[49m\u001b[43mneural_encoding\u001b[49m\u001b[43m,\u001b[49m\u001b[43m \u001b[49m\u001b[43moptimizer\u001b[49m\u001b[43m,\u001b[49m\u001b[43m \u001b[49m\u001b[43mnum_epochs\u001b[49m\u001b[43m \u001b[49m\u001b[38;5;241;43m=\u001b[39;49m\u001b[43m \u001b[49m\u001b[38;5;241;43m100000\u001b[39;49m\u001b[43m)\u001b[49m\n",
      "Cell \u001b[0;32mIn[15], line 11\u001b[0m, in \u001b[0;36mtrain_one_mesh\u001b[0;34m(filename, model, neural_encoding, optimizer, live_sampling, num_points, num_epochs)\u001b[0m\n\u001b[1;32m      9\u001b[0m neural_encoding \u001b[38;5;241m=\u001b[39m neural_encoding\u001b[38;5;241m.\u001b[39mrepeat(num_points, \u001b[38;5;241m1\u001b[39m)\n\u001b[1;32m     10\u001b[0m \u001b[38;5;28;01mfor\u001b[39;00m epoch \u001b[38;5;129;01min\u001b[39;00m tqdm(\u001b[38;5;28mrange\u001b[39m(num_epochs)):\n\u001b[0;32m---> 11\u001b[0m     points, labels \u001b[38;5;241m=\u001b[39m \u001b[43msample_sdf\u001b[49m\u001b[43m(\u001b[49m\u001b[43mvdb_filename\u001b[49m\u001b[43m,\u001b[49m\u001b[43m \u001b[49m\u001b[43mnum_points\u001b[49m\u001b[43m,\u001b[49m\u001b[43m \u001b[49m\u001b[43mdevice\u001b[49m\u001b[38;5;241;43m=\u001b[39;49m\u001b[43mdevice\u001b[49m\u001b[43m)\u001b[49m\n\u001b[1;32m     12\u001b[0m     perm \u001b[38;5;241m=\u001b[39m torch\u001b[38;5;241m.\u001b[39mrandperm(num_points)\n\u001b[1;32m     13\u001b[0m     points, labels \u001b[38;5;241m=\u001b[39m points[perm], labels[perm]\n",
      "File \u001b[0;32m~/dev/src/Neural-Sign-Distance-Learning/Helpers/nsdf_live_sampler.py:6\u001b[0m, in \u001b[0;36msample_sdf\u001b[0;34m(file, num_points, device)\u001b[0m\n\u001b[1;32m      4\u001b[0m \u001b[38;5;28;01mdef\u001b[39;00m \u001b[38;5;21msample_sdf\u001b[39m(file, num_points, device\u001b[38;5;241m=\u001b[39m\u001b[38;5;124m'\u001b[39m\u001b[38;5;124mcpu\u001b[39m\u001b[38;5;124m'\u001b[39m):\n\u001b[1;32m      5\u001b[0m     command \u001b[38;5;241m=\u001b[39m [\u001b[38;5;124m\"\u001b[39m\u001b[38;5;124m/home/amuseth/dev/src/Neural-Sign-Distance-Learning/nsdf_live\u001b[39m\u001b[38;5;124m\"\u001b[39m, file, \u001b[38;5;28mstr\u001b[39m(num_points)]\n\u001b[0;32m----> 6\u001b[0m     run_process \u001b[38;5;241m=\u001b[39m \u001b[43msubprocess\u001b[49m\u001b[38;5;241;43m.\u001b[39;49m\u001b[43mrun\u001b[49m\u001b[43m(\u001b[49m\u001b[43mcommand\u001b[49m\u001b[43m,\u001b[49m\u001b[43m \u001b[49m\u001b[43mcapture_output\u001b[49m\u001b[38;5;241;43m=\u001b[39;49m\u001b[38;5;28;43;01mTrue\u001b[39;49;00m\u001b[43m,\u001b[49m\u001b[43m \u001b[49m\u001b[43mtext\u001b[49m\u001b[38;5;241;43m=\u001b[39;49m\u001b[38;5;28;43;01mTrue\u001b[39;49;00m\u001b[43m)\u001b[49m\n\u001b[1;32m      7\u001b[0m     \u001b[38;5;28;01mif\u001b[39;00m run_process\u001b[38;5;241m.\u001b[39mreturncode \u001b[38;5;241m==\u001b[39m \u001b[38;5;241m0\u001b[39m:\n\u001b[1;32m      8\u001b[0m         rows \u001b[38;5;241m=\u001b[39m run_process\u001b[38;5;241m.\u001b[39mstdout\u001b[38;5;241m.\u001b[39mstrip()\u001b[38;5;241m.\u001b[39msplit(\u001b[38;5;124m\"\u001b[39m\u001b[38;5;130;01m\\n\u001b[39;00m\u001b[38;5;124m\"\u001b[39m)\n",
      "File \u001b[0;32m/usr/lib/python3.10/subprocess.py:505\u001b[0m, in \u001b[0;36mrun\u001b[0;34m(input, capture_output, timeout, check, *popenargs, **kwargs)\u001b[0m\n\u001b[1;32m    503\u001b[0m \u001b[38;5;28;01mwith\u001b[39;00m Popen(\u001b[38;5;241m*\u001b[39mpopenargs, \u001b[38;5;241m*\u001b[39m\u001b[38;5;241m*\u001b[39mkwargs) \u001b[38;5;28;01mas\u001b[39;00m process:\n\u001b[1;32m    504\u001b[0m     \u001b[38;5;28;01mtry\u001b[39;00m:\n\u001b[0;32m--> 505\u001b[0m         stdout, stderr \u001b[38;5;241m=\u001b[39m \u001b[43mprocess\u001b[49m\u001b[38;5;241;43m.\u001b[39;49m\u001b[43mcommunicate\u001b[49m\u001b[43m(\u001b[49m\u001b[38;5;28;43minput\u001b[39;49m\u001b[43m,\u001b[49m\u001b[43m \u001b[49m\u001b[43mtimeout\u001b[49m\u001b[38;5;241;43m=\u001b[39;49m\u001b[43mtimeout\u001b[49m\u001b[43m)\u001b[49m\n\u001b[1;32m    506\u001b[0m     \u001b[38;5;28;01mexcept\u001b[39;00m TimeoutExpired \u001b[38;5;28;01mas\u001b[39;00m exc:\n\u001b[1;32m    507\u001b[0m         process\u001b[38;5;241m.\u001b[39mkill()\n",
      "File \u001b[0;32m/usr/lib/python3.10/subprocess.py:1154\u001b[0m, in \u001b[0;36mPopen.communicate\u001b[0;34m(self, input, timeout)\u001b[0m\n\u001b[1;32m   1151\u001b[0m     endtime \u001b[38;5;241m=\u001b[39m \u001b[38;5;28;01mNone\u001b[39;00m\n\u001b[1;32m   1153\u001b[0m \u001b[38;5;28;01mtry\u001b[39;00m:\n\u001b[0;32m-> 1154\u001b[0m     stdout, stderr \u001b[38;5;241m=\u001b[39m \u001b[38;5;28;43mself\u001b[39;49m\u001b[38;5;241;43m.\u001b[39;49m\u001b[43m_communicate\u001b[49m\u001b[43m(\u001b[49m\u001b[38;5;28;43minput\u001b[39;49m\u001b[43m,\u001b[49m\u001b[43m \u001b[49m\u001b[43mendtime\u001b[49m\u001b[43m,\u001b[49m\u001b[43m \u001b[49m\u001b[43mtimeout\u001b[49m\u001b[43m)\u001b[49m\n\u001b[1;32m   1155\u001b[0m \u001b[38;5;28;01mexcept\u001b[39;00m \u001b[38;5;167;01mKeyboardInterrupt\u001b[39;00m:\n\u001b[1;32m   1156\u001b[0m     \u001b[38;5;66;03m# https://bugs.python.org/issue25942\u001b[39;00m\n\u001b[1;32m   1157\u001b[0m     \u001b[38;5;66;03m# See the detailed comment in .wait().\u001b[39;00m\n\u001b[1;32m   1158\u001b[0m     \u001b[38;5;28;01mif\u001b[39;00m timeout \u001b[38;5;129;01mis\u001b[39;00m \u001b[38;5;129;01mnot\u001b[39;00m \u001b[38;5;28;01mNone\u001b[39;00m:\n",
      "File \u001b[0;32m/usr/lib/python3.10/subprocess.py:2021\u001b[0m, in \u001b[0;36mPopen._communicate\u001b[0;34m(self, input, endtime, orig_timeout)\u001b[0m\n\u001b[1;32m   2014\u001b[0m     \u001b[38;5;28mself\u001b[39m\u001b[38;5;241m.\u001b[39m_check_timeout(endtime, orig_timeout,\n\u001b[1;32m   2015\u001b[0m                         stdout, stderr,\n\u001b[1;32m   2016\u001b[0m                         skip_check_and_raise\u001b[38;5;241m=\u001b[39m\u001b[38;5;28;01mTrue\u001b[39;00m)\n\u001b[1;32m   2017\u001b[0m     \u001b[38;5;28;01mraise\u001b[39;00m \u001b[38;5;167;01mRuntimeError\u001b[39;00m(  \u001b[38;5;66;03m# Impossible :)\u001b[39;00m\n\u001b[1;32m   2018\u001b[0m         \u001b[38;5;124m'\u001b[39m\u001b[38;5;124m_check_timeout(..., skip_check_and_raise=True) \u001b[39m\u001b[38;5;124m'\u001b[39m\n\u001b[1;32m   2019\u001b[0m         \u001b[38;5;124m'\u001b[39m\u001b[38;5;124mfailed to raise TimeoutExpired.\u001b[39m\u001b[38;5;124m'\u001b[39m)\n\u001b[0;32m-> 2021\u001b[0m ready \u001b[38;5;241m=\u001b[39m \u001b[43mselector\u001b[49m\u001b[38;5;241;43m.\u001b[39;49m\u001b[43mselect\u001b[49m\u001b[43m(\u001b[49m\u001b[43mtimeout\u001b[49m\u001b[43m)\u001b[49m\n\u001b[1;32m   2022\u001b[0m \u001b[38;5;28mself\u001b[39m\u001b[38;5;241m.\u001b[39m_check_timeout(endtime, orig_timeout, stdout, stderr)\n\u001b[1;32m   2024\u001b[0m \u001b[38;5;66;03m# XXX Rewrite these to use non-blocking I/O on the file\u001b[39;00m\n\u001b[1;32m   2025\u001b[0m \u001b[38;5;66;03m# objects; they are no longer using C stdio!\u001b[39;00m\n",
      "File \u001b[0;32m/usr/lib/python3.10/selectors.py:416\u001b[0m, in \u001b[0;36m_PollLikeSelector.select\u001b[0;34m(self, timeout)\u001b[0m\n\u001b[1;32m    414\u001b[0m ready \u001b[38;5;241m=\u001b[39m []\n\u001b[1;32m    415\u001b[0m \u001b[38;5;28;01mtry\u001b[39;00m:\n\u001b[0;32m--> 416\u001b[0m     fd_event_list \u001b[38;5;241m=\u001b[39m \u001b[38;5;28;43mself\u001b[39;49m\u001b[38;5;241;43m.\u001b[39;49m\u001b[43m_selector\u001b[49m\u001b[38;5;241;43m.\u001b[39;49m\u001b[43mpoll\u001b[49m\u001b[43m(\u001b[49m\u001b[43mtimeout\u001b[49m\u001b[43m)\u001b[49m\n\u001b[1;32m    417\u001b[0m \u001b[38;5;28;01mexcept\u001b[39;00m \u001b[38;5;167;01mInterruptedError\u001b[39;00m:\n\u001b[1;32m    418\u001b[0m     \u001b[38;5;28;01mreturn\u001b[39;00m ready\n",
      "\u001b[0;31mKeyboardInterrupt\u001b[0m: "
     ]
    }
   ],
   "source": [
    "y = x[\"points\"][0].unsqueeze(0).permute(0,2,1).to(device)\n",
    "model.to(device) \n",
    "with torch.no_grad():\n",
    "    neural_encoding = model.encoder(y)\n",
    "sdf_model2 = SDFRegressionModel(3, 256, 128)\n",
    "sdf_model2.to(device)\n",
    "optimizer = optim.AdamW(sdf_model2.parameters(), lr=0.001)\n",
    "print(neural_encoding.shape)\n",
    "train_one_mesh(x['filename'][0], sdf_model2, neural_encoding, optimizer, num_epochs = 100000)"
   ]
  }
 ],
 "metadata": {
  "kernelspec": {
   "display_name": "Python 3",
   "language": "python",
   "name": "python3"
  },
  "language_info": {
   "codemirror_mode": {
    "name": "ipython",
    "version": 3
   },
   "file_extension": ".py",
   "mimetype": "text/x-python",
   "name": "python",
   "nbconvert_exporter": "python",
   "pygments_lexer": "ipython3",
   "version": "3.10.12"
  }
 },
 "nbformat": 4,
 "nbformat_minor": 4
}
