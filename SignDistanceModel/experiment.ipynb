{
 "cells": [
  {
   "cell_type": "code",
   "execution_count": 1,
   "metadata": {},
   "outputs": [
    {
     "name": "stdout",
     "output_type": "stream",
     "text": [
      "Using: cuda\n"
     ]
    }
   ],
   "source": [
    "import torch \n",
    "import torch.nn as nn\n",
    "import torch.optim as optim\n",
    "\n",
    "from torch.utils.data import ConcatDataset, DataLoader, Subset\n",
    "import sys\n",
    "from pathlib import Path\n",
    "sys.path.append(str(Path.cwd().parent))\n",
    "\n",
    "from Helpers.data import SDDataset, PointCloudDataset\n",
    "# Hyperparameters\n",
    "input_dim = 3\n",
    "latent_dim = 512\n",
    "hidden_dim = 256\n",
    "learning_rate = 0.001\n",
    "num_epochs = 100\n",
    "\n",
    "if torch.cuda.is_available():\n",
    "    device = \"cuda\"\n",
    "elif hasattr(torch.backends, \"mps\") and torch.backends.mps.is_available():\n",
    "    device = \"mps\"\n",
    "else:\n",
    "    device = \"cpu\"\n",
    "\n",
    "print(f'Using: {device}')"
   ]
  },
  {
   "cell_type": "code",
   "execution_count": 2,
   "metadata": {},
   "outputs": [],
   "source": [
    "d = SDDataset('../Data/ModelNet40', '../Data/sampled_points', device, 1024, 'train')"
   ]
  },
  {
   "cell_type": "code",
   "execution_count": 3,
   "metadata": {},
   "outputs": [],
   "source": [
    "torch.save(d, '../Data/sd_dataset_1024_train.pt')"
   ]
  },
  {
   "cell_type": "code",
   "execution_count": 4,
   "metadata": {},
   "outputs": [],
   "source": [
    "train = torch.load('../Data/sd_dataset_1024_train.pt', weights_only= False)"
   ]
  },
  {
   "cell_type": "code",
   "execution_count": 5,
   "metadata": {},
   "outputs": [
    {
     "name": "stdout",
     "output_type": "stream",
     "text": [
      "{'latent_rep': tensor([[ 0.2781,  1.3495, -2.4532,  ..., -1.6509,  1.0050,  0.9629],\n",
      "        [-1.4604, -1.6223, -0.8180,  ..., -1.1405,  1.4749,  0.9913],\n",
      "        [ 0.1813, -0.9574,  3.0082,  ...,  0.9539, -0.4228, -0.7308],\n",
      "        ...,\n",
      "        [ 1.0613,  0.4580,  2.8835,  ..., -0.0247, -1.4942, -0.0771],\n",
      "        [-3.1888,  1.4808,  1.0790,  ...,  0.9437,  0.5125, -0.3939],\n",
      "        [ 0.4147,  1.0751, -1.5592,  ..., -1.1616, -0.1255, -0.3073]]), 'xyz': tensor([[ 0.7061,  0.7534,  0.1379],\n",
      "        [ 0.5532,  0.5239,  0.3750],\n",
      "        [ 0.9893,  0.1847,  0.4485],\n",
      "        [ 0.2668,  0.3896,  0.8276],\n",
      "        [ 0.7598,  0.3015,  0.3044],\n",
      "        [-0.0119,  0.0950,  0.2527],\n",
      "        [ 0.3906,  0.4128,  0.5396],\n",
      "        [ 0.6807,  0.0923,  0.6934],\n",
      "        [ 0.6528,  0.9932,  0.4612],\n",
      "        [ 0.5547,  0.8198,  0.5054],\n",
      "        [ 0.0927,  0.4495,  0.1548],\n",
      "        [ 0.4529,  0.0330,  0.3574],\n",
      "        [ 0.3962,  0.2510,  0.1333],\n",
      "        [ 0.2583,  0.1052,  0.2367],\n",
      "        [ 0.9038,  0.3157,  0.5610],\n",
      "        [ 0.0883,  0.3384,  0.2559],\n",
      "        [ 0.9067,  0.1346,  0.3691],\n",
      "        [ 0.4585,  0.6963,  0.0847],\n",
      "        [ 0.6860,  0.1178,  0.3669],\n",
      "        [ 0.4307,  0.8584,  0.2233],\n",
      "        [ 0.3040,  0.5225,  0.9951],\n",
      "        [ 0.3215,  0.3582,  0.9570],\n",
      "        [ 0.2148,  0.9023,  0.5547],\n",
      "        [ 0.8428,  0.4482,  0.3264],\n",
      "        [ 0.7852,  0.3818,  0.4329],\n",
      "        [ 0.2744,  0.6851,  0.6230],\n",
      "        [ 0.9258,  0.4150,  0.1913],\n",
      "        [ 0.7432,  0.4250,  0.1216],\n",
      "        [ 0.5347,  0.5361,  0.0691],\n",
      "        [ 0.2939,  0.0259,  0.2394],\n",
      "        [ 0.0566,  0.8706,  0.8301],\n",
      "        [ 0.5200,  0.8384,  0.1080]], dtype=torch.float16), 'sd': tensor([ 1.5135e-03, -3.6736e-03, -2.0218e-03, -1.0509e-03,  4.4098e-03,\n",
      "         1.1925e-02, -5.7335e-03, -1.1673e-03,  1.0597e-02,  1.1795e-02,\n",
      "        -3.0575e-03,  1.0162e-02, -5.5580e-03,  7.0839e-03,  1.1780e-02,\n",
      "        -4.0665e-03,  1.0468e-02,  1.0773e-02,  6.2065e-03, -2.9411e-03,\n",
      "         1.1742e-02, -5.4436e-03,  1.5450e-03, -4.6425e-03,  2.1000e-03,\n",
      "        -6.0730e-03,  1.2624e-04,  1.4553e-03,  5.7638e-05,  4.1084e-03,\n",
      "         1.3342e-03, -4.6082e-03], dtype=torch.float16)}\n",
      "torch.Size([32, 256])\n",
      "torch.Size([32, 3])\n",
      "torch.Size([32])\n"
     ]
    }
   ],
   "source": [
    "loader = DataLoader(train, batch_size= 32, shuffle= True)\n",
    "\n",
    "for data in loader:\n",
    "    print(data)\n",
    "    latent_rep = data['latent_rep']\n",
    "    xyz = data['xyz']\n",
    "    sd = data['sd']\n",
    "\n",
    "    print(latent_rep.shape)\n",
    "    print(xyz.shape)\n",
    "    print(sd.shape)\n",
    "\n",
    "    break\n"
   ]
  }
 ],
 "metadata": {
  "kernelspec": {
   "display_name": "test-open3d",
   "language": "python",
   "name": "python3"
  },
  "language_info": {
   "codemirror_mode": {
    "name": "ipython",
    "version": 3
   },
   "file_extension": ".py",
   "mimetype": "text/x-python",
   "name": "python",
   "nbconvert_exporter": "python",
   "pygments_lexer": "ipython3",
   "version": "3.9.20"
  }
 },
 "nbformat": 4,
 "nbformat_minor": 2
}
