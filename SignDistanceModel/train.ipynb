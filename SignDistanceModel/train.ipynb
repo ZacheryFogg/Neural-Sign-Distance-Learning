{
 "cells": [
  {
   "cell_type": "code",
   "execution_count": 1,
   "metadata": {},
   "outputs": [
    {
     "name": "stdout",
     "output_type": "stream",
     "text": [
      "Using: cuda\n"
     ]
    }
   ],
   "source": [
    "import numpy as np\n",
    "import matplotlib.pyplot as plt\n",
    "%matplotlib inline\n",
    "import torch\n",
    "import torch.optim as optim\n",
    "import torch.nn as nn\n",
    "import torch.nn.functional as F\n",
    "import open3d as o3d\n",
    "from torch.utils.data import Dataset, DataLoader, Subset\n",
    "from dataclasses import dataclass\n",
    "import sys\n",
    "from pathlib import Path\n",
    "from tqdm import tqdm\n",
    "import sdf_models as sd\n",
    "import json\n",
    "\n",
    "\n",
    "sys.path.append(str(Path.cwd().parent))\n",
    "\n",
    "from Helpers.data import SDDataset\n",
    "import Helpers.PointCloudOpen3d as pc\n",
    "\n",
    "if torch.cuda.is_available():\n",
    "    device = \"cuda\"\n",
    "\n",
    "elif hasattr(torch.backends, \"mps\") and torch.backends.mps.is_available():\n",
    "    device = \"mps\"\n",
    "else:\n",
    "    device = \"cpu\"\n",
    "\n",
    "print(f'Using: {device}')\n"
   ]
  },
  {
   "cell_type": "code",
   "execution_count": 16,
   "metadata": {},
   "outputs": [],
   "source": [
    "# train_dataset = SDDataset('../Data/ModelNet40', '../Data/sampled_points', device, 1024, 'train', object_classes= None)\n",
    "# test_dataset = SDDataset('../Data/ModelNet40', '../Data/sampled_points', device, 1024, 'test', object_classes= None)\n",
    "\n",
    "# test_size = len(test_dataset)\n",
    "# split_idx = test_size // 2\n",
    "# indices = list(range(test_size))\n",
    "# val_dataset = Subset(test_dataset, indices[:split_idx])\n",
    "# test_dataset = Subset(test_dataset, indices[split_idx:])\n",
    "\n",
    "train_dataset = torch.load('../Data/sd_dataset_train.pt', weights_only= False)\n",
    "val_dataset = torch.load('../Data/sd_dataset_val.pt', weights_only= False)\n",
    "test_dataset = torch.load('../Data/sd_dataset_test.pt', weights_only= False)\n",
    "\n",
    "batch_size = 1024\n",
    "\n",
    "train_loader = DataLoader(train_dataset, batch_size= batch_size, shuffle= True)\n",
    "val_loader = DataLoader(val_dataset, batch_size= batch_size, shuffle= True)\n",
    "test_loader = DataLoader(test_dataset, batch_size= batch_size, shuffle= True)"
   ]
  },
  {
   "cell_type": "code",
   "execution_count": 17,
   "metadata": {},
   "outputs": [
    {
     "name": "stdout",
     "output_type": "stream",
     "text": [
      "96026\n"
     ]
    }
   ],
   "source": [
    "print(len(train_loader))"
   ]
  },
  {
   "cell_type": "code",
   "execution_count": 13,
   "metadata": {},
   "outputs": [
    {
     "data": {
      "text/plain": [
       "4801.4"
      ]
     },
     "execution_count": 13,
     "metadata": {},
     "output_type": "execute_result"
    }
   ],
   "source": [
    "24007 / 5"
   ]
  },
  {
   "cell_type": "code",
   "execution_count": null,
   "metadata": {},
   "outputs": [],
   "source": [
    "val_report_rate = 30000 # How often should we calculate the validation metrics.\n",
    "\n",
    "def calculate_acc(logits, targets): \n",
    "    preds = torch.round(torch.sigmoid(logits))\n",
    "    correct = (preds == targets).float() \n",
    "    accuracy = torch.sum(correct) / (correct.shape[0])\n",
    "    return accuracy.item()\n",
    "\n",
    "\n",
    "def calculate_val_metrics(model, device, val_loader):\n",
    "    # Calculate validation loss\n",
    "    val_loss = 0 \n",
    "    val_acc = 0\n",
    "\n",
    "    for data in val_loader:\n",
    "\n",
    "        latent_rep = data['latent_rep'].to(device)\n",
    "        xyz = data['xyz'].to(device)\n",
    "        sd = (data['sd'] >  0).float().to(device)\n",
    "\n",
    "        with torch.no_grad():\n",
    "            logits = model(latent_rep, xyz)\n",
    "            logits = logits.squeeze()\n",
    "\n",
    "            loss = F.binary_cross_entropy_with_logits(logits, sd)\n",
    "            val_loss += loss.item()\n",
    "            val_acc += calculate_acc(logits, sd)\n",
    "\n",
    "    val_loss /= len(val_loader)\n",
    "    val_acc /= len(val_loader)\n",
    "\n",
    "    return val_loss, val_acc\n",
    "\n",
    "def train_model(key, model, num_epochs, train_loader, val_loader, lr = 1e-3):\n",
    "\n",
    "    optimizer = optim.AdamW(model.parameters(), lr=lr)\n",
    "\n",
    "    min_val_loss = np.inf\n",
    "\n",
    "    train_losses = []\n",
    "    train_accs = []\n",
    "    val_losses = []\n",
    "    val_accs = []\n",
    "\n",
    "    for epoch in range(num_epochs):\n",
    "\n",
    "        # Train one epoch\n",
    "        model.train()\n",
    "\n",
    "        train_loss = 0 \n",
    "        train_acc = 0\n",
    "        \n",
    "        batch = 0\n",
    "        for data in tqdm(train_loader):\n",
    " \n",
    "            latent_rep = data['latent_rep'].to(device)\n",
    "            xyz = data['xyz'].to(device)\n",
    "            sd = (data['sd'] > 0).float().to(device)\n",
    "\n",
    "            logits = model(latent_rep, xyz)\n",
    "            logits = logits.squeeze()\n",
    "\n",
    "            optimizer.zero_grad()\n",
    "            \n",
    "            loss = F.binary_cross_entropy_with_logits(logits, sd)\n",
    "\n",
    "            loss.backward()\n",
    "\n",
    "            optimizer.step()\n",
    "\n",
    "            train_loss += loss.item()\n",
    "            train_acc = calculate_acc(logits, sd)\n",
    "\n",
    "            # There are 120,000,000 examples per epoch, and so validation metrics should be calculated more frequently than 1 epoch\n",
    "            if batch % val_report_rate == 0:\n",
    "                model.eval()\n",
    "                val_loss, val_acc = calculate_val_metrics(model, device, val_loader)\n",
    "                model.train()\n",
    "\n",
    "                val_losses.append(val_loss)\n",
    "                val_accs.append(val_acc)\n",
    "\n",
    "                print(f'\\nBatch Num {batch+1} \\t Val Loss: {val_loss:.5f} \\t Val Acc: {val_acc:.5f}')\n",
    "\n",
    "                # Save best model\n",
    "                if val_loss < min_val_loss:\n",
    "                    print(f'Val Loss Decreased({min_val_loss:.6f} ---> {val_loss:.6f}) \\t Saving The Model')\n",
    "                    min_val_loss = val_loss\n",
    "\n",
    "                    torch.save(model.state_dict(), f'./trained_sdf_models/{key}')\n",
    "\n",
    "            batch+=1 \n",
    "\n",
    "            train_loss /= len(train_loader)\n",
    "            train_acc /= len(train_loader)\n",
    "\n",
    "            train_losses.append(train_loss)\n",
    "            train_accs.append(train_acc) \n",
    "\n",
    "    model.eval()\n",
    "    val_loss, val_acc = calculate_val_metrics(model, device, val_loader)\n",
    "    val_losses.append(val_loss)\n",
    "    val_accs.append(val_acc)\n",
    "\n",
    "    results = {\n",
    "        \"train_losses\" : train_losses, \n",
    "        \"train_accs\" : train_accs,\n",
    "        \"val_losses\" : val_losses, \n",
    "        \"val_accs\" : val_accs\n",
    "    }\n",
    "\n",
    "    return results"
   ]
  },
  {
   "cell_type": "code",
   "execution_count": 19,
   "metadata": {},
   "outputs": [
    {
     "name": "stdout",
     "output_type": "stream",
     "text": [
      "Training SD_3L model\n"
     ]
    },
    {
     "name": "stderr",
     "output_type": "stream",
     "text": [
      "  0%|          | 10/96026 [01:56<223:28:24,  8.38s/it] "
     ]
    },
    {
     "name": "stdout",
     "output_type": "stream",
     "text": [
      "\n",
      "Batch Num 1 \t Val Loss: 0.70035 \t Val Acc: 0.49999\n",
      "Val Loss Decreased(inf ---> 0.700345) \t Saving The Model\n"
     ]
    },
    {
     "name": "stderr",
     "output_type": "stream",
     "text": [
      " 31%|███       | 30000/96026 [08:58<19:44, 55.74it/s] \n"
     ]
    },
    {
     "ename": "KeyboardInterrupt",
     "evalue": "",
     "output_type": "error",
     "traceback": [
      "\u001b[1;31m---------------------------------------------------------------------------\u001b[0m",
      "\u001b[1;31mKeyboardInterrupt\u001b[0m                         Traceback (most recent call last)",
      "Cell \u001b[1;32mIn[19], line 28\u001b[0m\n\u001b[0;32m     24\u001b[0m \u001b[38;5;28mprint\u001b[39m(\u001b[38;5;124mf\u001b[39m\u001b[38;5;124m'\u001b[39m\u001b[38;5;124mTraining \u001b[39m\u001b[38;5;132;01m{\u001b[39;00mkey\u001b[38;5;132;01m}\u001b[39;00m\u001b[38;5;124m model\u001b[39m\u001b[38;5;124m'\u001b[39m)\n\u001b[0;32m     26\u001b[0m model \u001b[38;5;241m=\u001b[39m models[key][\u001b[38;5;124m'\u001b[39m\u001b[38;5;124mclass\u001b[39m\u001b[38;5;124m'\u001b[39m](latent_size)\u001b[38;5;241m.\u001b[39mto(device)\n\u001b[1;32m---> 28\u001b[0m results \u001b[38;5;241m=\u001b[39m \u001b[43mtrain_model\u001b[49m\u001b[43m(\u001b[49m\u001b[43mkey\u001b[49m\u001b[43m,\u001b[49m\u001b[43m \u001b[49m\u001b[43mmodel\u001b[49m\u001b[43m,\u001b[49m\u001b[43m \u001b[49m\u001b[43mnum_epochs\u001b[49m\u001b[43m,\u001b[49m\u001b[43m \u001b[49m\u001b[43mtrain_loader\u001b[49m\u001b[43m,\u001b[49m\u001b[43m \u001b[49m\u001b[43mval_loader\u001b[49m\u001b[43m,\u001b[49m\u001b[43m \u001b[49m\u001b[43mmodels\u001b[49m\u001b[43m[\u001b[49m\u001b[43mkey\u001b[49m\u001b[43m]\u001b[49m\u001b[43m[\u001b[49m\u001b[38;5;124;43m'\u001b[39;49m\u001b[38;5;124;43mlr\u001b[39;49m\u001b[38;5;124;43m'\u001b[39;49m\u001b[43m]\u001b[49m\u001b[43m)\u001b[49m\n\u001b[0;32m     30\u001b[0m \u001b[38;5;28;01mwith\u001b[39;00m \u001b[38;5;28mopen\u001b[39m(\u001b[38;5;124mf\u001b[39m\u001b[38;5;124m'\u001b[39m\u001b[38;5;124m./results/\u001b[39m\u001b[38;5;132;01m{\u001b[39;00mkey\u001b[38;5;132;01m}\u001b[39;00m\u001b[38;5;124m.json\u001b[39m\u001b[38;5;124m'\u001b[39m, \u001b[38;5;124m'\u001b[39m\u001b[38;5;124mw\u001b[39m\u001b[38;5;124m'\u001b[39m) \u001b[38;5;28;01mas\u001b[39;00m f:\n\u001b[0;32m     31\u001b[0m     json\u001b[38;5;241m.\u001b[39mdump(results, f)\n",
      "Cell \u001b[1;32mIn[18], line 76\u001b[0m, in \u001b[0;36mtrain_model\u001b[1;34m(key, model, num_epochs, train_loader, val_loader, lr)\u001b[0m\n\u001b[0;32m     74\u001b[0m \u001b[38;5;28;01mif\u001b[39;00m batch \u001b[38;5;241m%\u001b[39m val_report_rate \u001b[38;5;241m==\u001b[39m \u001b[38;5;241m0\u001b[39m:\n\u001b[0;32m     75\u001b[0m     model\u001b[38;5;241m.\u001b[39meval()\n\u001b[1;32m---> 76\u001b[0m     val_loss, val_acc \u001b[38;5;241m=\u001b[39m \u001b[43mcalculate_val_metrics\u001b[49m\u001b[43m(\u001b[49m\u001b[43mmodel\u001b[49m\u001b[43m,\u001b[49m\u001b[43m \u001b[49m\u001b[43mdevice\u001b[49m\u001b[43m,\u001b[49m\u001b[43m \u001b[49m\u001b[43mval_loader\u001b[49m\u001b[43m)\u001b[49m\n\u001b[0;32m     77\u001b[0m     model\u001b[38;5;241m.\u001b[39mtrain()\n\u001b[0;32m     79\u001b[0m     val_losses\u001b[38;5;241m.\u001b[39mappend(val_loss)\n",
      "Cell \u001b[1;32mIn[18], line 15\u001b[0m, in \u001b[0;36mcalculate_val_metrics\u001b[1;34m(model, device, val_loader)\u001b[0m\n\u001b[0;32m     12\u001b[0m val_loss \u001b[38;5;241m=\u001b[39m \u001b[38;5;241m0\u001b[39m \n\u001b[0;32m     13\u001b[0m val_acc \u001b[38;5;241m=\u001b[39m \u001b[38;5;241m0\u001b[39m\n\u001b[1;32m---> 15\u001b[0m \u001b[38;5;28;01mfor\u001b[39;00m data \u001b[38;5;129;01min\u001b[39;00m val_loader:\n\u001b[0;32m     17\u001b[0m     latent_rep \u001b[38;5;241m=\u001b[39m data[\u001b[38;5;124m'\u001b[39m\u001b[38;5;124mlatent_rep\u001b[39m\u001b[38;5;124m'\u001b[39m]\u001b[38;5;241m.\u001b[39mto(device)\n\u001b[0;32m     18\u001b[0m     xyz \u001b[38;5;241m=\u001b[39m data[\u001b[38;5;124m'\u001b[39m\u001b[38;5;124mxyz\u001b[39m\u001b[38;5;124m'\u001b[39m]\u001b[38;5;241m.\u001b[39mto(device)\n",
      "File \u001b[1;32mc:\\Users\\zfogg\\anaconda3\\envs\\test-open3d\\lib\\site-packages\\torch\\utils\\data\\dataloader.py:719\u001b[0m, in \u001b[0;36m_BaseDataLoaderIter.__next__\u001b[1;34m(self)\u001b[0m\n\u001b[0;32m    713\u001b[0m         warn_msg \u001b[38;5;241m+\u001b[39m\u001b[38;5;241m=\u001b[39m (\n\u001b[0;32m    714\u001b[0m             \u001b[38;5;124m\"\u001b[39m\u001b[38;5;124mFor multiprocessing data-loading, this could be caused by not properly configuring the \u001b[39m\u001b[38;5;124m\"\u001b[39m\n\u001b[0;32m    715\u001b[0m             \u001b[38;5;124m\"\u001b[39m\u001b[38;5;124mIterableDataset replica at each worker. Please see \u001b[39m\u001b[38;5;124m\"\u001b[39m\n\u001b[0;32m    716\u001b[0m             \u001b[38;5;124m\"\u001b[39m\u001b[38;5;124mhttps://pytorch.org/docs/stable/data.html#torch.utils.data.IterableDataset for examples.\u001b[39m\u001b[38;5;124m\"\u001b[39m\n\u001b[0;32m    717\u001b[0m         )\n\u001b[0;32m    718\u001b[0m     warnings\u001b[38;5;241m.\u001b[39mwarn(warn_msg)\n\u001b[1;32m--> 719\u001b[0m \u001b[38;5;28;01mreturn\u001b[39;00m data\n",
      "File \u001b[1;32mc:\\Users\\zfogg\\anaconda3\\envs\\test-open3d\\lib\\site-packages\\torch\\autograd\\profiler.py:750\u001b[0m, in \u001b[0;36mrecord_function.__exit__\u001b[1;34m(self, exc_type, exc_value, traceback)\u001b[0m\n\u001b[0;32m    748\u001b[0m \u001b[38;5;28;01mif\u001b[39;00m \u001b[38;5;129;01mnot\u001b[39;00m torch\u001b[38;5;241m.\u001b[39mjit\u001b[38;5;241m.\u001b[39mis_scripting():\n\u001b[0;32m    749\u001b[0m     \u001b[38;5;28;01mwith\u001b[39;00m torch\u001b[38;5;241m.\u001b[39m_C\u001b[38;5;241m.\u001b[39mDisableTorchFunctionSubclass():\n\u001b[1;32m--> 750\u001b[0m         \u001b[43mtorch\u001b[49m\u001b[38;5;241;43m.\u001b[39;49m\u001b[43mops\u001b[49m\u001b[38;5;241;43m.\u001b[39;49m\u001b[43mprofiler\u001b[49m\u001b[38;5;241;43m.\u001b[39;49m\u001b[43m_record_function_exit\u001b[49m\u001b[38;5;241;43m.\u001b[39;49m\u001b[43m_RecordFunction\u001b[49m\u001b[43m(\u001b[49m\u001b[43mrecord\u001b[49m\u001b[43m)\u001b[49m\n\u001b[0;32m    751\u001b[0m \u001b[38;5;28;01melse\u001b[39;00m:\n\u001b[0;32m    752\u001b[0m     torch\u001b[38;5;241m.\u001b[39mops\u001b[38;5;241m.\u001b[39mprofiler\u001b[38;5;241m.\u001b[39m_record_function_exit(record)\n",
      "File \u001b[1;32mc:\\Users\\zfogg\\anaconda3\\envs\\test-open3d\\lib\\site-packages\\torch\\_ops.py:953\u001b[0m, in \u001b[0;36mTorchBindOpOverload.__call__\u001b[1;34m(self, *args, **kwargs)\u001b[0m\n\u001b[0;32m    951\u001b[0m     \u001b[38;5;28;01mwith\u001b[39;00m \u001b[38;5;28mself\u001b[39m\u001b[38;5;241m.\u001b[39m_register_as_effectful_op_temporarily():\n\u001b[0;32m    952\u001b[0m         \u001b[38;5;28;01mreturn\u001b[39;00m \u001b[38;5;28mself\u001b[39m\u001b[38;5;241m.\u001b[39m_dispatch_in_python(args, kwargs, \u001b[38;5;28mself\u001b[39m\u001b[38;5;241m.\u001b[39m_fallthrough_keys())\n\u001b[1;32m--> 953\u001b[0m \u001b[38;5;28;01mreturn\u001b[39;00m \u001b[38;5;28mself\u001b[39m\u001b[38;5;241m.\u001b[39m_op(\u001b[38;5;241m*\u001b[39margs, \u001b[38;5;241m*\u001b[39m\u001b[38;5;241m*\u001b[39mkwargs)\n",
      "\u001b[1;31mKeyboardInterrupt\u001b[0m: "
     ]
    }
   ],
   "source": [
    "num_epochs = 1\n",
    "latent_size = 256\n",
    "lr = 1e-3\n",
    "\n",
    "overall_results = {}\n",
    "\n",
    "models = {\n",
    "    'SD_3L' : {'class' : sd.SD_3L , 'lr' : lr},\n",
    "    'SD_3L_Upscale32' : {'class' : sd.SD_3L_Upscale32 , 'lr' : lr},\n",
    "    'SD_7L_Upscale128' : {'class' : sd.SD_7L_Upscale128 , 'lr' : lr},\n",
    "    'SD_4L_Upscale128' : {'class' : sd.SD_4L_Upscale128 , 'lr' : lr},\n",
    "\n",
    "    'SD_3L_LR_1e-4' : {'class' : sd.SD_3L , 'lr' : 1e-4},\n",
    "    'SD_3L_Upscale32_LR_1e-4' : {'class' : sd.SD_3L_Upscale32 , 'lr' : 1e-4},\n",
    "    'SD_7L_Upscale128_LR_1e-4' : {'class' : sd.SD_7L_Upscale128 , 'lr' : 1e-4},\n",
    "    'SD_4L_Upscale128_LR_1e-4' : {'class' : sd.SD_4L_Upscale128 , 'lr' : 1e-4},\n",
    "\n",
    "    'SD_5L_Upscale256' : {'class' : sd.SD_5L_Upscale256 , 'lr' : lr},\n",
    "    'SD_6L_Upscale256' : {'class' : sd.SD_6L_Upscale256 , 'lr' : lr},\n",
    "    'SD_4L_Upscale256_LatentEncode' : {'class' : sd.SD_4L_Upscale256_LatentEncode , 'lr' : lr},\n",
    "}\n",
    "\n",
    "for key in models.keys():\n",
    "    print(f'Training {key} model')\n",
    "    \n",
    "    model = models[key]['class'](latent_size).to(device)\n",
    "\n",
    "    results = train_model(key, model, num_epochs, train_loader, val_loader, models[key]['lr'])\n",
    "\n",
    "    with open(f'./results/{key}.json', 'w') as f:\n",
    "        json.dump(results, f)\n",
    "\n",
    "    overall_results[key] = results\n",
    "\n",
    "with open(f'./results/overall_results.json', 'w') as f: \n",
    "    json.dump(overall_results, f)\n",
    "\n",
    "    \n"
   ]
  },
  {
   "cell_type": "code",
   "execution_count": 23,
   "metadata": {},
   "outputs": [
    {
     "name": "stdout",
     "output_type": "stream",
     "text": [
      "1.0\n"
     ]
    }
   ],
   "source": [
    "def calculate_acc(logits, targets): \n",
    "    preds = torch.round(torch.sigmoid(logits))\n",
    "    correct = (preds == targets).float() \n",
    "    accuracy = torch.sum(correct) / (correct.shape[0])\n",
    "    return accuracy.item()\n",
    "\n",
    "\n",
    "logits = torch.tensor((0, 1,0, 1))\n",
    "targets = torch.tensor((0,1,0,1))\n",
    "\n",
    "print(calculate_acc(logits, targets))"
   ]
  },
  {
   "cell_type": "code",
   "execution_count": 17,
   "metadata": {},
   "outputs": [
    {
     "data": {
      "text/plain": [
       "{'train_losses': [7.64236119064281e-05],\n",
       " 'train_accs': [0.0],\n",
       " 'val_losses': [0.00018214614540950708,\n",
       "  0.00018291598187583977,\n",
       "  0.00018330602813213098],\n",
       " 'val_accs': [tensor(0.0001, device='cuda:0'),\n",
       "  tensor(0.0001, device='cuda:0'),\n",
       "  tensor(0.0001, device='cuda:0')]}"
      ]
     },
     "execution_count": 17,
     "metadata": {},
     "output_type": "execute_result"
    }
   ],
   "source": [
    "results"
   ]
  }
 ],
 "metadata": {
  "kernelspec": {
   "display_name": "test-open3d",
   "language": "python",
   "name": "python3"
  },
  "language_info": {
   "codemirror_mode": {
    "name": "ipython",
    "version": 3
   },
   "file_extension": ".py",
   "mimetype": "text/x-python",
   "name": "python",
   "nbconvert_exporter": "python",
   "pygments_lexer": "ipython3",
   "version": "3.9.20"
  }
 },
 "nbformat": 4,
 "nbformat_minor": 2
}
